{
 "cells": [
  {
   "cell_type": "code",
   "execution_count": 174,
   "metadata": {},
   "outputs": [],
   "source": [
    "import pandas as pd\n",
    "import numpy as np\n",
    "import seaborn as sns \n",
    "import datetime\n",
    "import matplotlib.pyplot as plt"
   ]
  },
  {
   "cell_type": "code",
   "execution_count": 3,
   "metadata": {
    "scrolled": true
   },
   "outputs": [
    {
     "name": "stderr",
     "output_type": "stream",
     "text": [
      "[nltk_data] Downloading package punkt to\n",
      "[nltk_data]     C:\\Users\\pcolon\\AppData\\Roaming\\nltk_data...\n",
      "[nltk_data]   Package punkt is already up-to-date!\n"
     ]
    }
   ],
   "source": [
    "import nltk\n",
    "nltk.download('punkt')\n",
    "from nltk.tokenize import word_tokenize\n",
    "from nltk.probability import FreqDist  as fdist\n",
    "import re"
   ]
  }, 
  {
   "cell_type": "code",
   "execution_count": 4,
   "metadata": {},
   "outputs": [],
   "source": [
    "from scipy.stats import ttest_ind"
   ]
  },
  {
   "cell_type": "code",
   "execution_count": 5,
   "metadata": {},
   "outputs": [],
   "source": [
    "import warnings \n",
    "warnings.filterwarnings('ignore')"
   ]
  },
  {
   "cell_type": "code",
   "execution_count": 61,
   "metadata": {},
   "outputs": [
    {
     "name": "stdout",
     "output_type": "stream",
     "text": [
      "Collecting missingno\n",
      "  Downloading missingno-0.4.2-py3-none-any.whl (9.7 kB)\n",
      "Requirement already satisfied: matplotlib in c:\\users\\pcolon\\anaconda3\\lib\\site-packages (from missingno) (3.1.3)\n",
      "Requirement already satisfied: numpy in c:\\users\\pcolon\\anaconda3\\lib\\site-packages (from missingno) (1.18.1)\n",
      "Requirement already satisfied: scipy in c:\\users\\pcolon\\anaconda3\\lib\\site-packages (from missingno) (1.4.1)\n",
      "Requirement already satisfied: seaborn in c:\\users\\pcolon\\anaconda3\\lib\\site-packages (from missingno) (0.10.0)\n",
      "Requirement already satisfied: pyparsing!=2.0.4,!=2.1.2,!=2.1.6,>=2.0.1 in c:\\users\\pcolon\\anaconda3\\lib\\site-packages (from matplotlib->missingno) (2.4.6)\n",
      "Requirement already satisfied: python-dateutil>=2.1 in c:\\users\\pcolon\\anaconda3\\lib\\site-packages (from matplotlib->missingno) (2.8.1)\n",
      "Requirement already satisfied: cycler>=0.10 in c:\\users\\pcolon\\anaconda3\\lib\\site-packages (from matplotlib->missingno) (0.10.0)\n",
      "Requirement already satisfied: kiwisolver>=1.0.1 in c:\\users\\pcolon\\anaconda3\\lib\\site-packages (from matplotlib->missingno) (1.1.0)\n",
      "Requirement already satisfied: pandas>=0.22.0 in c:\\users\\pcolon\\anaconda3\\lib\\site-packages (from seaborn->missingno) (1.0.1)\n",
      "Requirement already satisfied: six>=1.5 in c:\\users\\pcolon\\anaconda3\\lib\\site-packages (from python-dateutil>=2.1->matplotlib->missingno) (1.14.0)\n",
      "Requirement already satisfied: setuptools in c:\\users\\pcolon\\anaconda3\\lib\\site-packages (from kiwisolver>=1.0.1->matplotlib->missingno) (45.2.0.post20200210)\n",
      "Requirement already satisfied: pytz>=2017.2 in c:\\users\\pcolon\\anaconda3\\lib\\site-packages (from pandas>=0.22.0->seaborn->missingno) (2019.3)\n",
      "Installing collected packages: missingno\n",
      "Successfully installed missingno-0.4.2\n",
      "Note: you may need to restart the kernel to use updated packages.\n"
     ]
    }
   ],
   "source": [
    "pip install missingno"
   ]
  },
  {
   "cell_type": "code",
   "execution_count": 6,
   "metadata": {},
   "outputs": [],
   "source": [
    "import missingno"
   ]
  },
  {
   "cell_type": "code",
   "execution_count": 24,
   "metadata": {},
   "outputs": [],
   "source": [
    "data = pd.read_excel('QVI_transaction_data.xlsx')"
   ]
  },
  {
   "cell_type": "code",
   "execution_count": 25,
   "metadata": {},
   "outputs": [
    {
     "data": {
      "text/html": [
       "<div>\n",
       "<style scoped>\n",
       "    .dataframe tbody tr th:only-of-type {\n",
       "        vertical-align: middle;\n",
       "    }\n",
       "\n",
       "    .dataframe tbody tr th {\n",
       "        vertical-align: top;\n",
       "    }\n",
       "\n",
       "    .dataframe thead th {\n",
       "        text-align: right;\n",
       "    }\n",
       "</style>\n",
       "<table border=\"1\" class=\"dataframe\">\n",
       "  <thead>\n",
       "    <tr style=\"text-align: right;\">\n",
       "      <th></th>\n",
       "      <th>DATE</th>\n",
       "      <th>STORE_NBR</th>\n",
       "      <th>LYLTY_CARD_NBR</th>\n",
       "      <th>TXN_ID</th>\n",
       "      <th>PROD_NBR</th>\n",
       "      <th>PROD_NAME</th>\n",
       "      <th>PROD_QTY</th>\n",
       "      <th>TOT_SALES</th>\n",
       "    </tr>\n",
       "  </thead>\n",
       "  <tbody>\n",
       "    <tr>\n",
       "      <th>0</th>\n",
       "      <td>43390</td>\n",
       "      <td>1</td>\n",
       "      <td>1000</td>\n",
       "      <td>1</td>\n",
       "      <td>5</td>\n",
       "      <td>Natural Chip        Compny SeaSalt175g</td>\n",
       "      <td>2</td>\n",
       "      <td>6.0</td>\n",
       "    </tr>\n",
       "    <tr>\n",
       "      <th>1</th>\n",
       "      <td>43599</td>\n",
       "      <td>1</td>\n",
       "      <td>1307</td>\n",
       "      <td>348</td>\n",
       "      <td>66</td>\n",
       "      <td>CCs Nacho Cheese    175g</td>\n",
       "      <td>3</td>\n",
       "      <td>6.3</td>\n",
       "    </tr>\n",
       "    <tr>\n",
       "      <th>2</th>\n",
       "      <td>43605</td>\n",
       "      <td>1</td>\n",
       "      <td>1343</td>\n",
       "      <td>383</td>\n",
       "      <td>61</td>\n",
       "      <td>Smiths Crinkle Cut  Chips Chicken 170g</td>\n",
       "      <td>2</td>\n",
       "      <td>2.9</td>\n",
       "    </tr>\n",
       "    <tr>\n",
       "      <th>3</th>\n",
       "      <td>43329</td>\n",
       "      <td>2</td>\n",
       "      <td>2373</td>\n",
       "      <td>974</td>\n",
       "      <td>69</td>\n",
       "      <td>Smiths Chip Thinly  S/Cream&amp;Onion 175g</td>\n",
       "      <td>5</td>\n",
       "      <td>15.0</td>\n",
       "    </tr>\n",
       "    <tr>\n",
       "      <th>4</th>\n",
       "      <td>43330</td>\n",
       "      <td>2</td>\n",
       "      <td>2426</td>\n",
       "      <td>1038</td>\n",
       "      <td>108</td>\n",
       "      <td>Kettle Tortilla ChpsHny&amp;Jlpno Chili 150g</td>\n",
       "      <td>3</td>\n",
       "      <td>13.8</td>\n",
       "    </tr>\n",
       "  </tbody>\n",
       "</table>\n",
       "</div>"
      ],
      "text/plain": [
       "    DATE  STORE_NBR  LYLTY_CARD_NBR  TXN_ID  PROD_NBR  \\\n",
       "0  43390          1            1000       1         5   \n",
       "1  43599          1            1307     348        66   \n",
       "2  43605          1            1343     383        61   \n",
       "3  43329          2            2373     974        69   \n",
       "4  43330          2            2426    1038       108   \n",
       "\n",
       "                                  PROD_NAME  PROD_QTY  TOT_SALES  \n",
       "0    Natural Chip        Compny SeaSalt175g         2        6.0  \n",
       "1                  CCs Nacho Cheese    175g         3        6.3  \n",
       "2    Smiths Crinkle Cut  Chips Chicken 170g         2        2.9  \n",
       "3    Smiths Chip Thinly  S/Cream&Onion 175g         5       15.0  \n",
       "4  Kettle Tortilla ChpsHny&Jlpno Chili 150g         3       13.8  "
      ]
     },
     "execution_count": 25,
     "metadata": {},
     "output_type": "execute_result"
    }
   ],
   "source": [
    "data.head()"
   ]
  },
  {
   "cell_type": "code",
   "execution_count": 26,
   "metadata": {},
   "outputs": [
    {
     "data": {
      "text/plain": [
       "(264836, 8)"
      ]
     },
     "execution_count": 26,
     "metadata": {},
     "output_type": "execute_result"
    }
   ],
   "source": [
    "data.shape# 260 thousand rows and 8 columns "
   ]
  },
  {
   "cell_type": "code",
   "execution_count": 27,
   "metadata": {},
   "outputs": [
    {
     "data": {
      "text/plain": [
       "DATE              False\n",
       "STORE_NBR         False\n",
       "LYLTY_CARD_NBR    False\n",
       "TXN_ID            False\n",
       "PROD_NBR          False\n",
       "PROD_NAME         False\n",
       "PROD_QTY          False\n",
       "TOT_SALES         False\n",
       "dtype: bool"
      ]
     },
     "execution_count": 27,
     "metadata": {},
     "output_type": "execute_result"
    }
   ],
   "source": [
    "data.isnull().any()#checking for null values\n"
   ]
  },
  {
   "cell_type": "markdown",
   "metadata": {},
   "source": [
    "# Summary Stats"
   ]
  },
  {
   "cell_type": "code",
   "execution_count": 28,
   "metadata": {},
   "outputs": [
    {
     "data": {
      "text/html": [
       "<div>\n",
       "<style scoped>\n",
       "    .dataframe tbody tr th:only-of-type {\n",
       "        vertical-align: middle;\n",
       "    }\n",
       "\n",
       "    .dataframe tbody tr th {\n",
       "        vertical-align: top;\n",
       "    }\n",
       "\n",
       "    .dataframe thead th {\n",
       "        text-align: right;\n",
       "    }\n",
       "</style>\n",
       "<table border=\"1\" class=\"dataframe\">\n",
       "  <thead>\n",
       "    <tr style=\"text-align: right;\">\n",
       "      <th></th>\n",
       "      <th>DATE</th>\n",
       "      <th>STORE_NBR</th>\n",
       "      <th>LYLTY_CARD_NBR</th>\n",
       "      <th>TXN_ID</th>\n",
       "      <th>PROD_NBR</th>\n",
       "      <th>PROD_QTY</th>\n",
       "      <th>TOT_SALES</th>\n",
       "    </tr>\n",
       "  </thead>\n",
       "  <tbody>\n",
       "    <tr>\n",
       "      <th>count</th>\n",
       "      <td>264836.000000</td>\n",
       "      <td>264836.00000</td>\n",
       "      <td>2.648360e+05</td>\n",
       "      <td>2.648360e+05</td>\n",
       "      <td>264836.000000</td>\n",
       "      <td>264836.000000</td>\n",
       "      <td>264836.000000</td>\n",
       "    </tr>\n",
       "    <tr>\n",
       "      <th>mean</th>\n",
       "      <td>43464.036260</td>\n",
       "      <td>135.08011</td>\n",
       "      <td>1.355495e+05</td>\n",
       "      <td>1.351583e+05</td>\n",
       "      <td>56.583157</td>\n",
       "      <td>1.907309</td>\n",
       "      <td>7.304200</td>\n",
       "    </tr>\n",
       "    <tr>\n",
       "      <th>std</th>\n",
       "      <td>105.389282</td>\n",
       "      <td>76.78418</td>\n",
       "      <td>8.057998e+04</td>\n",
       "      <td>7.813303e+04</td>\n",
       "      <td>32.826638</td>\n",
       "      <td>0.643654</td>\n",
       "      <td>3.083226</td>\n",
       "    </tr>\n",
       "    <tr>\n",
       "      <th>min</th>\n",
       "      <td>43282.000000</td>\n",
       "      <td>1.00000</td>\n",
       "      <td>1.000000e+03</td>\n",
       "      <td>1.000000e+00</td>\n",
       "      <td>1.000000</td>\n",
       "      <td>1.000000</td>\n",
       "      <td>1.500000</td>\n",
       "    </tr>\n",
       "    <tr>\n",
       "      <th>25%</th>\n",
       "      <td>43373.000000</td>\n",
       "      <td>70.00000</td>\n",
       "      <td>7.002100e+04</td>\n",
       "      <td>6.760150e+04</td>\n",
       "      <td>28.000000</td>\n",
       "      <td>2.000000</td>\n",
       "      <td>5.400000</td>\n",
       "    </tr>\n",
       "    <tr>\n",
       "      <th>50%</th>\n",
       "      <td>43464.000000</td>\n",
       "      <td>130.00000</td>\n",
       "      <td>1.303575e+05</td>\n",
       "      <td>1.351375e+05</td>\n",
       "      <td>56.000000</td>\n",
       "      <td>2.000000</td>\n",
       "      <td>7.400000</td>\n",
       "    </tr>\n",
       "    <tr>\n",
       "      <th>75%</th>\n",
       "      <td>43555.000000</td>\n",
       "      <td>203.00000</td>\n",
       "      <td>2.030942e+05</td>\n",
       "      <td>2.027012e+05</td>\n",
       "      <td>85.000000</td>\n",
       "      <td>2.000000</td>\n",
       "      <td>9.200000</td>\n",
       "    </tr>\n",
       "    <tr>\n",
       "      <th>max</th>\n",
       "      <td>43646.000000</td>\n",
       "      <td>272.00000</td>\n",
       "      <td>2.373711e+06</td>\n",
       "      <td>2.415841e+06</td>\n",
       "      <td>114.000000</td>\n",
       "      <td>200.000000</td>\n",
       "      <td>650.000000</td>\n",
       "    </tr>\n",
       "  </tbody>\n",
       "</table>\n",
       "</div>"
      ],
      "text/plain": [
       "                DATE     STORE_NBR  LYLTY_CARD_NBR        TXN_ID  \\\n",
       "count  264836.000000  264836.00000    2.648360e+05  2.648360e+05   \n",
       "mean    43464.036260     135.08011    1.355495e+05  1.351583e+05   \n",
       "std       105.389282      76.78418    8.057998e+04  7.813303e+04   \n",
       "min     43282.000000       1.00000    1.000000e+03  1.000000e+00   \n",
       "25%     43373.000000      70.00000    7.002100e+04  6.760150e+04   \n",
       "50%     43464.000000     130.00000    1.303575e+05  1.351375e+05   \n",
       "75%     43555.000000     203.00000    2.030942e+05  2.027012e+05   \n",
       "max     43646.000000     272.00000    2.373711e+06  2.415841e+06   \n",
       "\n",
       "            PROD_NBR       PROD_QTY      TOT_SALES  \n",
       "count  264836.000000  264836.000000  264836.000000  \n",
       "mean       56.583157       1.907309       7.304200  \n",
       "std        32.826638       0.643654       3.083226  \n",
       "min         1.000000       1.000000       1.500000  \n",
       "25%        28.000000       2.000000       5.400000  \n",
       "50%        56.000000       2.000000       7.400000  \n",
       "75%        85.000000       2.000000       9.200000  \n",
       "max       114.000000     200.000000     650.000000  "
      ]
     },
     "execution_count": 28,
     "metadata": {},
     "output_type": "execute_result"
    }
   ],
   "source": [
    "data.describe()#Summary of the Data "
   ]
  },
  {
   "cell_type": "code",
   "execution_count": 29,
   "metadata": {},
   "outputs": [
    {
     "name": "stdout",
     "output_type": "stream",
     "text": [
      "<class 'pandas.core.frame.DataFrame'>\n",
      "RangeIndex: 264836 entries, 0 to 264835\n",
      "Data columns (total 8 columns):\n",
      " #   Column          Non-Null Count   Dtype  \n",
      "---  ------          --------------   -----  \n",
      " 0   DATE            264836 non-null  int64  \n",
      " 1   STORE_NBR       264836 non-null  int64  \n",
      " 2   LYLTY_CARD_NBR  264836 non-null  int64  \n",
      " 3   TXN_ID          264836 non-null  int64  \n",
      " 4   PROD_NBR        264836 non-null  int64  \n",
      " 5   PROD_NAME       264836 non-null  object \n",
      " 6   PROD_QTY        264836 non-null  int64  \n",
      " 7   TOT_SALES       264836 non-null  float64\n",
      "dtypes: float64(1), int64(6), object(1)\n",
      "memory usage: 16.2+ MB\n"
     ]
    }
   ],
   "source": [
    "data.info()#Checking the FORMAT OF THE DATA types "
   ]
  },
  {
   "cell_type": "code",
   "execution_count": 30,
   "metadata": {},
   "outputs": [
    {
     "data": {
      "text/plain": [
       "DATE                 364\n",
       "STORE_NBR            272\n",
       "LYLTY_CARD_NBR     72637\n",
       "TXN_ID            263127\n",
       "PROD_NBR             114\n",
       "PROD_NAME            114\n",
       "PROD_QTY               6\n",
       "TOT_SALES            112\n",
       "dtype: int64"
      ]
     },
     "execution_count": 30,
     "metadata": {},
     "output_type": "execute_result"
    }
   ],
   "source": [
    "data.nunique()# lets see how many unique objects we are working with "
   ]
  },
  {
   "cell_type": "code",
   "execution_count": 31,
   "metadata": {},
   "outputs": [],
   "source": [
    "#TXN_ID is not Unique to each row whichmeans a customer can buy multiple brands\n",
    "#of chips in a single transaction and each row of data corresponds to a purchase\n",
    "# of a single brand of chips and a customer can buy  mulitple brands in  a single transaction"
   ]
  },
  {
   "cell_type": "code",
   "execution_count": 32,
   "metadata": {},
   "outputs": [
    {
     "data": {
      "text/html": [
       "<div>\n",
       "<style scoped>\n",
       "    .dataframe tbody tr th:only-of-type {\n",
       "        vertical-align: middle;\n",
       "    }\n",
       "\n",
       "    .dataframe tbody tr th {\n",
       "        vertical-align: top;\n",
       "    }\n",
       "\n",
       "    .dataframe thead th {\n",
       "        text-align: right;\n",
       "    }\n",
       "</style>\n",
       "<table border=\"1\" class=\"dataframe\">\n",
       "  <thead>\n",
       "    <tr style=\"text-align: right;\">\n",
       "      <th></th>\n",
       "      <th>DATE</th>\n",
       "      <th>STORE_NBR</th>\n",
       "      <th>LYLTY_CARD_NBR</th>\n",
       "      <th>TXN_ID</th>\n",
       "      <th>PROD_NBR</th>\n",
       "      <th>PROD_NAME</th>\n",
       "      <th>PROD_QTY</th>\n",
       "      <th>TOT_SALES</th>\n",
       "    </tr>\n",
       "  </thead>\n",
       "  <tbody>\n",
       "    <tr>\n",
       "      <th>41</th>\n",
       "      <td>43605</td>\n",
       "      <td>55</td>\n",
       "      <td>55073</td>\n",
       "      <td>48887</td>\n",
       "      <td>4</td>\n",
       "      <td>Dorito Corn Chp     Supreme 380g</td>\n",
       "      <td>1</td>\n",
       "      <td>3.25</td>\n",
       "    </tr>\n",
       "    <tr>\n",
       "      <th>42</th>\n",
       "      <td>43605</td>\n",
       "      <td>55</td>\n",
       "      <td>55073</td>\n",
       "      <td>48887</td>\n",
       "      <td>113</td>\n",
       "      <td>Twisties Chicken270g</td>\n",
       "      <td>1</td>\n",
       "      <td>4.60</td>\n",
       "    </tr>\n",
       "  </tbody>\n",
       "</table>\n",
       "</div>"
      ],
      "text/plain": [
       "     DATE  STORE_NBR  LYLTY_CARD_NBR  TXN_ID  PROD_NBR  \\\n",
       "41  43605         55           55073   48887         4   \n",
       "42  43605         55           55073   48887       113   \n",
       "\n",
       "                           PROD_NAME  PROD_QTY  TOT_SALES  \n",
       "41  Dorito Corn Chp     Supreme 380g         1       3.25  \n",
       "42              Twisties Chicken270g         1       4.60  "
      ]
     },
     "execution_count": 32,
     "metadata": {},
     "output_type": "execute_result"
    }
   ],
   "source": [
    "data.loc[data['TXN_ID']==48887]"
   ]
  },
  {
   "cell_type": "code",
   "execution_count": 33,
   "metadata": {},
   "outputs": [
    {
     "data": {
      "text/html": [
       "<div>\n",
       "<style scoped>\n",
       "    .dataframe tbody tr th:only-of-type {\n",
       "        vertical-align: middle;\n",
       "    }\n",
       "\n",
       "    .dataframe tbody tr th {\n",
       "        vertical-align: top;\n",
       "    }\n",
       "\n",
       "    .dataframe thead th {\n",
       "        text-align: right;\n",
       "    }\n",
       "</style>\n",
       "<table border=\"1\" class=\"dataframe\">\n",
       "  <thead>\n",
       "    <tr style=\"text-align: right;\">\n",
       "      <th></th>\n",
       "      <th>DATE</th>\n",
       "      <th>STORE_NBR</th>\n",
       "      <th>LYLTY_CARD_NBR</th>\n",
       "      <th>TXN_ID</th>\n",
       "      <th>PROD_NBR</th>\n",
       "      <th>PROD_NAME</th>\n",
       "      <th>PROD_QTY</th>\n",
       "      <th>TOT_SALES</th>\n",
       "    </tr>\n",
       "  </thead>\n",
       "  <tbody>\n",
       "    <tr>\n",
       "      <th>42</th>\n",
       "      <td>43605</td>\n",
       "      <td>55</td>\n",
       "      <td>55073</td>\n",
       "      <td>48887</td>\n",
       "      <td>113</td>\n",
       "      <td>Twisties Chicken270g</td>\n",
       "      <td>1</td>\n",
       "      <td>4.6</td>\n",
       "    </tr>\n",
       "    <tr>\n",
       "      <th>377</th>\n",
       "      <td>43475</td>\n",
       "      <td>7</td>\n",
       "      <td>7364</td>\n",
       "      <td>7739</td>\n",
       "      <td>20</td>\n",
       "      <td>Doritos Cheese      Supreme 330g</td>\n",
       "      <td>2</td>\n",
       "      <td>11.4</td>\n",
       "    </tr>\n",
       "    <tr>\n",
       "      <th>419</th>\n",
       "      <td>43391</td>\n",
       "      <td>12</td>\n",
       "      <td>12301</td>\n",
       "      <td>10982</td>\n",
       "      <td>93</td>\n",
       "      <td>Doritos Corn Chip Southern Chicken 150g</td>\n",
       "      <td>2</td>\n",
       "      <td>7.8</td>\n",
       "    </tr>\n",
       "    <tr>\n",
       "      <th>476</th>\n",
       "      <td>43351</td>\n",
       "      <td>16</td>\n",
       "      <td>16427</td>\n",
       "      <td>14546</td>\n",
       "      <td>81</td>\n",
       "      <td>Pringles Original   Crisps 134g</td>\n",
       "      <td>1</td>\n",
       "      <td>3.7</td>\n",
       "    </tr>\n",
       "    <tr>\n",
       "      <th>511</th>\n",
       "      <td>43315</td>\n",
       "      <td>19</td>\n",
       "      <td>19272</td>\n",
       "      <td>16683</td>\n",
       "      <td>31</td>\n",
       "      <td>Infzns Crn Crnchers Tangy Gcamole 110g</td>\n",
       "      <td>2</td>\n",
       "      <td>7.6</td>\n",
       "    </tr>\n",
       "  </tbody>\n",
       "</table>\n",
       "</div>"
      ],
      "text/plain": [
       "      DATE  STORE_NBR  LYLTY_CARD_NBR  TXN_ID  PROD_NBR  \\\n",
       "42   43605         55           55073   48887       113   \n",
       "377  43475          7            7364    7739        20   \n",
       "419  43391         12           12301   10982        93   \n",
       "476  43351         16           16427   14546        81   \n",
       "511  43315         19           19272   16683        31   \n",
       "\n",
       "                                   PROD_NAME  PROD_QTY  TOT_SALES  \n",
       "42                      Twisties Chicken270g         1        4.6  \n",
       "377         Doritos Cheese      Supreme 330g         2       11.4  \n",
       "419  Doritos Corn Chip Southern Chicken 150g         2        7.8  \n",
       "476          Pringles Original   Crisps 134g         1        3.7  \n",
       "511   Infzns Crn Crnchers Tangy Gcamole 110g         2        7.6  "
      ]
     },
     "execution_count": 33,
     "metadata": {},
     "output_type": "execute_result"
    }
   ],
   "source": [
    "data[data.duplicated(['TXN_ID'])].head()"
   ]
  },
  {
   "cell_type": "code",
   "execution_count": 34,
   "metadata": {
    "scrolled": true
   },
   "outputs": [
    {
     "data": {
      "text/plain": [
       "DATE              0\n",
       "STORE_NBR         0\n",
       "LYLTY_CARD_NBR    0\n",
       "TXN_ID            0\n",
       "PROD_NBR          0\n",
       "PROD_NAME         0\n",
       "PROD_QTY          0\n",
       "TOT_SALES         0\n",
       "dtype: int64"
      ]
     },
     "execution_count": 34,
     "metadata": {},
     "output_type": "execute_result"
    }
   ],
   "source": [
    "data.isnull().sum()"
   ]
  },
  {
   "cell_type": "code",
   "execution_count": 35,
   "metadata": {},
   "outputs": [
    {
     "data": {
      "text/plain": [
       "<matplotlib.axes._subplots.AxesSubplot at 0x27c12590c88>"
      ]
     },
     "execution_count": 35,
     "metadata": {},
     "output_type": "execute_result"
    },
    {
     "data": {
      "image/png": "[encoded data removed]",
      "text/plain": [
       "<Figure size 432x288 with 1 Axes>"
      ]
     },
     "metadata": {
      "needs_background": "light"
     },
     "output_type": "display_data"
    }
   ],
   "source": [
    "sns.distplot(data.TOT_SALES,kde=True)#Checking for outliers"
   ]
  },
  {
   "cell_type": "markdown",
   "metadata": {},
   "source": [
    "7.3 is the average amount of sale "
   ]
  },
  {
   "cell_type": "markdown",
   "metadata": {},
   "source": [
    "# We are going to fillter out the outliers in Total sales so everything thats < 8.00"
   ]
  },
  {
   "cell_type": "code",
   "execution_count": 38,
   "metadata": {},
   "outputs": [],
   "source": [
    "numerical_data = pd.read_excel('QVI_transaction_data.xlsx')"
   ]
  },
  {
   "cell_type": "code",
   "execution_count": 39,
   "metadata": {},
   "outputs": [],
   "source": [
    "x = numerical_data[numerical_data['TOT_SALES'] <8.000]"
   ]
  },
  {
   "cell_type": "code",
   "execution_count": 42,
   "metadata": {
    "scrolled": true
   },
   "outputs": [
    {
     "data": {
      "text/html": [
       "<div>\n",
       "<style scoped>\n",
       "    .dataframe tbody tr th:only-of-type {\n",
       "        vertical-align: middle;\n",
       "    }\n",
       "\n",
       "    .dataframe tbody tr th {\n",
       "        vertical-align: top;\n",
       "    }\n",
       "\n",
       "    .dataframe thead th {\n",
       "        text-align: right;\n",
       "    }\n",
       "</style>\n",
       "<table border=\"1\" class=\"dataframe\">\n",
       "  <thead>\n",
       "    <tr style=\"text-align: right;\">\n",
       "      <th></th>\n",
       "      <th>DATE</th>\n",
       "      <th>STORE_NBR</th>\n",
       "      <th>LYLTY_CARD_NBR</th>\n",
       "      <th>TXN_ID</th>\n",
       "      <th>PROD_NBR</th>\n",
       "      <th>PROD_NAME</th>\n",
       "      <th>PROD_QTY</th>\n",
       "      <th>TOT_SALES</th>\n",
       "    </tr>\n",
       "  </thead>\n",
       "  <tbody>\n",
       "    <tr>\n",
       "      <th>0</th>\n",
       "      <td>43390</td>\n",
       "      <td>1</td>\n",
       "      <td>1000</td>\n",
       "      <td>1</td>\n",
       "      <td>5</td>\n",
       "      <td>Natural Chip        Compny SeaSalt175g</td>\n",
       "      <td>2</td>\n",
       "      <td>6.0</td>\n",
       "    </tr>\n",
       "    <tr>\n",
       "      <th>1</th>\n",
       "      <td>43599</td>\n",
       "      <td>1</td>\n",
       "      <td>1307</td>\n",
       "      <td>348</td>\n",
       "      <td>66</td>\n",
       "      <td>CCs Nacho Cheese    175g</td>\n",
       "      <td>3</td>\n",
       "      <td>6.3</td>\n",
       "    </tr>\n",
       "    <tr>\n",
       "      <th>2</th>\n",
       "      <td>43605</td>\n",
       "      <td>1</td>\n",
       "      <td>1343</td>\n",
       "      <td>383</td>\n",
       "      <td>61</td>\n",
       "      <td>Smiths Crinkle Cut  Chips Chicken 170g</td>\n",
       "      <td>2</td>\n",
       "      <td>2.9</td>\n",
       "    </tr>\n",
       "    <tr>\n",
       "      <th>5</th>\n",
       "      <td>43604</td>\n",
       "      <td>4</td>\n",
       "      <td>4074</td>\n",
       "      <td>2982</td>\n",
       "      <td>57</td>\n",
       "      <td>Old El Paso Salsa   Dip Tomato Mild 300g</td>\n",
       "      <td>1</td>\n",
       "      <td>5.1</td>\n",
       "    </tr>\n",
       "    <tr>\n",
       "      <th>6</th>\n",
       "      <td>43601</td>\n",
       "      <td>4</td>\n",
       "      <td>4149</td>\n",
       "      <td>3333</td>\n",
       "      <td>16</td>\n",
       "      <td>Smiths Crinkle Chips Salt &amp; Vinegar 330g</td>\n",
       "      <td>1</td>\n",
       "      <td>5.7</td>\n",
       "    </tr>\n",
       "  </tbody>\n",
       "</table>\n",
       "</div>"
      ],
      "text/plain": [
       "    DATE  STORE_NBR  LYLTY_CARD_NBR  TXN_ID  PROD_NBR  \\\n",
       "0  43390          1            1000       1         5   \n",
       "1  43599          1            1307     348        66   \n",
       "2  43605          1            1343     383        61   \n",
       "5  43604          4            4074    2982        57   \n",
       "6  43601          4            4149    3333        16   \n",
       "\n",
       "                                  PROD_NAME  PROD_QTY  TOT_SALES  \n",
       "0    Natural Chip        Compny SeaSalt175g         2        6.0  \n",
       "1                  CCs Nacho Cheese    175g         3        6.3  \n",
       "2    Smiths Crinkle Cut  Chips Chicken 170g         2        2.9  \n",
       "5  Old El Paso Salsa   Dip Tomato Mild 300g         1        5.1  \n",
       "6  Smiths Crinkle Chips Salt & Vinegar 330g         1        5.7  "
      ]
     },
     "execution_count": 42,
     "metadata": {},
     "output_type": "execute_result"
    }
   ],
   "source": [
    "x.head()"
   ]
  },
  {
   "cell_type": "code",
   "execution_count": 41,
   "metadata": {},
   "outputs": [
    {
     "data": {
      "text/plain": [
       "<matplotlib.axes._subplots.AxesSubplot at 0x27c125d9108>"
      ]
     },
     "execution_count": 41,
     "metadata": {},
     "output_type": "execute_result"
    },
    {
     "data": {
      "image/png": "[encoded data removed]",
      "text/plain": [
       "<Figure size 432x288 with 1 Axes>"
      ]
     },
     "metadata": {
      "needs_background": "light"
     },
     "output_type": "display_data"
    }
   ],
   "source": [
    "sns.distplot(x.TOT_SALES,kde=True)"
   ]
  },
  {
   "cell_type": "code",
   "execution_count": 31,
   "metadata": {},
   "outputs": [
    {
     "data": {
      "text/plain": [
       "<matplotlib.axes._subplots.AxesSubplot at 0x17dc6404348>"
      ]
     },
     "execution_count": 31,
     "metadata": {},
     "output_type": "execute_result"
    },
    {
     "data": {
      "image/png": "[encoded data removed]",
      "text/plain": [
       "<Figure size 432x288 with 1 Axes>"
      ]
     },
     "metadata": {
      "needs_background": "light"
     },
     "output_type": "display_data"
    }
   ],
   "source": [
    "sns.boxplot(x.TOT_SALES)"
   ]
  },
  {
   "cell_type": "code",
   "execution_count": 61,
   "metadata": {},
   "outputs": [],
   "source": [
    "customer_data = pd.read_csv('QVI_purchase_behaviour.csv')"
   ]
  },
  {
   "cell_type": "code",
   "execution_count": 62,
   "metadata": {},
   "outputs": [
    {
     "data": {
      "text/html": [
       "<div>\n",
       "<style scoped>\n",
       "    .dataframe tbody tr th:only-of-type {\n",
       "        vertical-align: middle;\n",
       "    }\n",
       "\n",
       "    .dataframe tbody tr th {\n",
       "        vertical-align: top;\n",
       "    }\n",
       "\n",
       "    .dataframe thead th {\n",
       "        text-align: right;\n",
       "    }\n",
       "</style>\n",
       "<table border=\"1\" class=\"dataframe\">\n",
       "  <thead>\n",
       "    <tr style=\"text-align: right;\">\n",
       "      <th></th>\n",
       "      <th>LYLTY_CARD_NBR</th>\n",
       "      <th>LIFESTAGE</th>\n",
       "      <th>PREMIUM_CUSTOMER</th>\n",
       "    </tr>\n",
       "  </thead>\n",
       "  <tbody>\n",
       "    <tr>\n",
       "      <th>0</th>\n",
       "      <td>1000</td>\n",
       "      <td>YOUNG SINGLES/COUPLES</td>\n",
       "      <td>Premium</td>\n",
       "    </tr>\n",
       "    <tr>\n",
       "      <th>1</th>\n",
       "      <td>1002</td>\n",
       "      <td>YOUNG SINGLES/COUPLES</td>\n",
       "      <td>Mainstream</td>\n",
       "    </tr>\n",
       "    <tr>\n",
       "      <th>2</th>\n",
       "      <td>1003</td>\n",
       "      <td>YOUNG FAMILIES</td>\n",
       "      <td>Budget</td>\n",
       "    </tr>\n",
       "    <tr>\n",
       "      <th>3</th>\n",
       "      <td>1004</td>\n",
       "      <td>OLDER SINGLES/COUPLES</td>\n",
       "      <td>Mainstream</td>\n",
       "    </tr>\n",
       "    <tr>\n",
       "      <th>4</th>\n",
       "      <td>1005</td>\n",
       "      <td>MIDAGE SINGLES/COUPLES</td>\n",
       "      <td>Mainstream</td>\n",
       "    </tr>\n",
       "  </tbody>\n",
       "</table>\n",
       "</div>"
      ],
      "text/plain": [
       "   LYLTY_CARD_NBR               LIFESTAGE PREMIUM_CUSTOMER\n",
       "0            1000   YOUNG SINGLES/COUPLES          Premium\n",
       "1            1002   YOUNG SINGLES/COUPLES       Mainstream\n",
       "2            1003          YOUNG FAMILIES           Budget\n",
       "3            1004   OLDER SINGLES/COUPLES       Mainstream\n",
       "4            1005  MIDAGE SINGLES/COUPLES       Mainstream"
      ]
     },
     "execution_count": 62,
     "metadata": {},
     "output_type": "execute_result"
    }
   ],
   "source": [
    "customer_data.head()"
   ]
  },
  {
   "cell_type": "code",
   "execution_count": 63,
   "metadata": {},
   "outputs": [
    {
     "data": {
      "text/plain": [
       "<matplotlib.axes._subplots.AxesSubplot at 0x17dc6294bc8>"
      ]
     },
     "execution_count": 63,
     "metadata": {},
     "output_type": "execute_result"
    },
    {
     "data": {
      "image/png": "[encoded data removed]",
      "text/plain": [
       "<Figure size 1800x720 with 2 Axes>"
      ]
     },
     "metadata": {
      "needs_background": "light"
     },
     "output_type": "display_data"
    }
   ],
   "source": [
    "missingno.matrix(data)#plots graph  of missing values for the transaction data \n",
    "#no missing values as we can clearly see "
   ]
  },
  {
   "cell_type": "code",
   "execution_count": 65,
   "metadata": {},
   "outputs": [
    {
     "data": {
      "text/plain": [
       "['DATE',\n",
       " 'STORE_NBR',\n",
       " 'LYLTY_CARD_NBR',\n",
       " 'TXN_ID',\n",
       " 'PROD_NBR',\n",
       " 'PROD_NAME',\n",
       " 'PROD_QTY',\n",
       " 'TOT_SALES']"
      ]
     },
     "execution_count": 65,
     "metadata": {},
     "output_type": "execute_result"
    }
   ],
   "source": [
    "list(data.columns)"
   ]
  },
  {
   "cell_type": "code",
   "execution_count": 67,
   "metadata": {},
   "outputs": [
    {
     "data": {
      "text/plain": [
       "0    43390\n",
       "1    43599\n",
       "2    43605\n",
       "3    43329\n",
       "4    43330\n",
       "Name: DATE, dtype: int64"
      ]
     },
     "execution_count": 67,
     "metadata": {},
     "output_type": "execute_result"
    }
   ],
   "source": [
    "data['DATE'].head()"
   ]
  },
  {
   "cell_type": "code",
   "execution_count": null,
   "metadata": {},
   "outputs": [],
   "source": [
    "#this function was a bit beyond my understanding but it was useful and i guess thats what stack overflow is for !da"
   ]
  },
  {
   "cell_type": "code",
   "execution_count": 69,
   "metadata": {},
   "outputs": [],
   "source": [
    "def xlseriesdate_to_datetime(xlserialdate):\n",
    "    excel_anchor = datetime.datetime(1900,1,1)\n",
    "    if(xlserialdate <60):\n",
    "        delta_in_days = datetime.timedelta(days = (xlserialdate-1))\n",
    "    else:\n",
    "        delta_in_days = datetime.timedelta(days = (xlserialdate-2))\n",
    "    converted_date = excel_anchor + delta_in_days\n",
    "    return converted_date\n",
    "        "
   ]
  },
  {
   "cell_type": "code",
   "execution_count": 70,
   "metadata": {},
   "outputs": [
    {
     "data": {
      "text/plain": [
       "0        2018-10-17\n",
       "1        2019-05-14\n",
       "2        2019-05-20\n",
       "3        2018-08-17\n",
       "4        2018-08-18\n",
       "            ...    \n",
       "264831   2019-03-09\n",
       "264832   2018-08-13\n",
       "264833   2018-11-06\n",
       "264834   2018-12-27\n",
       "264835   2018-09-22\n",
       "Name: DATE, Length: 264836, dtype: datetime64[ns]"
      ]
     },
     "execution_count": 70,
     "metadata": {},
     "output_type": "execute_result"
    }
   ],
   "source": [
    "data['DATE'].apply(xlseriesdate_to_datetime)"
   ]
  },
  {
   "cell_type": "code",
   "execution_count": 71,
   "metadata": {},
   "outputs": [],
   "source": [
    "data['DATE']=data['DATE'].apply(xlseriesdate_to_datetime)"
   ]
  },
  {
   "cell_type": "code",
   "execution_count": 88,
   "metadata": {},
   "outputs": [
    {
     "data": {
      "text/html": [
       "<div>\n",
       "<style scoped>\n",
       "    .dataframe tbody tr th:only-of-type {\n",
       "        vertical-align: middle;\n",
       "    }\n",
       "\n",
       "    .dataframe tbody tr th {\n",
       "        vertical-align: top;\n",
       "    }\n",
       "\n",
       "    .dataframe thead th {\n",
       "        text-align: right;\n",
       "    }\n",
       "</style>\n",
       "<table border=\"1\" class=\"dataframe\">\n",
       "  <thead>\n",
       "    <tr style=\"text-align: right;\">\n",
       "      <th></th>\n",
       "      <th>DATE</th>\n",
       "      <th>STORE_NBR</th>\n",
       "      <th>LYLTY_CARD_NBR</th>\n",
       "      <th>TXN_ID</th>\n",
       "      <th>PROD_NBR</th>\n",
       "      <th>PROD_NAME</th>\n",
       "      <th>PROD_QTY</th>\n",
       "      <th>TOT_SALES</th>\n",
       "      <th>BRAND</th>\n",
       "    </tr>\n",
       "  </thead>\n",
       "  <tbody>\n",
       "    <tr>\n",
       "      <th>0</th>\n",
       "      <td>43390</td>\n",
       "      <td>1</td>\n",
       "      <td>1000</td>\n",
       "      <td>1</td>\n",
       "      <td>5</td>\n",
       "      <td>Natural Chip        Compny SeaSalt175g</td>\n",
       "      <td>2</td>\n",
       "      <td>6.0</td>\n",
       "      <td>Natural</td>\n",
       "    </tr>\n",
       "    <tr>\n",
       "      <th>1</th>\n",
       "      <td>43599</td>\n",
       "      <td>1</td>\n",
       "      <td>1307</td>\n",
       "      <td>348</td>\n",
       "      <td>66</td>\n",
       "      <td>CCs Nacho Cheese    175g</td>\n",
       "      <td>3</td>\n",
       "      <td>6.3</td>\n",
       "      <td>CCs</td>\n",
       "    </tr>\n",
       "    <tr>\n",
       "      <th>2</th>\n",
       "      <td>43605</td>\n",
       "      <td>1</td>\n",
       "      <td>1343</td>\n",
       "      <td>383</td>\n",
       "      <td>61</td>\n",
       "      <td>Smiths Crinkle Cut  Chips Chicken 170g</td>\n",
       "      <td>2</td>\n",
       "      <td>2.9</td>\n",
       "      <td>Smiths</td>\n",
       "    </tr>\n",
       "    <tr>\n",
       "      <th>3</th>\n",
       "      <td>43329</td>\n",
       "      <td>2</td>\n",
       "      <td>2373</td>\n",
       "      <td>974</td>\n",
       "      <td>69</td>\n",
       "      <td>Smiths Chip Thinly  S/Cream&amp;Onion 175g</td>\n",
       "      <td>5</td>\n",
       "      <td>15.0</td>\n",
       "      <td>Smiths</td>\n",
       "    </tr>\n",
       "    <tr>\n",
       "      <th>4</th>\n",
       "      <td>43330</td>\n",
       "      <td>2</td>\n",
       "      <td>2426</td>\n",
       "      <td>1038</td>\n",
       "      <td>108</td>\n",
       "      <td>Kettle Tortilla ChpsHny&amp;Jlpno Chili 150g</td>\n",
       "      <td>3</td>\n",
       "      <td>13.8</td>\n",
       "      <td>Kettle</td>\n",
       "    </tr>\n",
       "  </tbody>\n",
       "</table>\n",
       "</div>"
      ],
      "text/plain": [
       "    DATE  STORE_NBR  LYLTY_CARD_NBR  TXN_ID  PROD_NBR  \\\n",
       "0  43390          1            1000       1         5   \n",
       "1  43599          1            1307     348        66   \n",
       "2  43605          1            1343     383        61   \n",
       "3  43329          2            2373     974        69   \n",
       "4  43330          2            2426    1038       108   \n",
       "\n",
       "                                  PROD_NAME  PROD_QTY  TOT_SALES    BRAND  \n",
       "0    Natural Chip        Compny SeaSalt175g         2        6.0  Natural  \n",
       "1                  CCs Nacho Cheese    175g         3        6.3      CCs  \n",
       "2    Smiths Crinkle Cut  Chips Chicken 170g         2        2.9   Smiths  \n",
       "3    Smiths Chip Thinly  S/Cream&Onion 175g         5       15.0   Smiths  \n",
       "4  Kettle Tortilla ChpsHny&Jlpno Chili 150g         3       13.8   Kettle  "
      ]
     },
     "execution_count": 88,
     "metadata": {},
     "output_type": "execute_result"
    }
   ],
   "source": [
    "data.head()"
   ]
  },
  {
   "cell_type": "code",
   "execution_count": 73,
   "metadata": {},
   "outputs": [
    {
     "data": {
      "text/plain": [
       "0      Natural Chip        Compny SeaSalt175g\n",
       "1                    CCs Nacho Cheese    175g\n",
       "2      Smiths Crinkle Cut  Chips Chicken 170g\n",
       "3      Smiths Chip Thinly  S/Cream&Onion 175g\n",
       "4    Kettle Tortilla ChpsHny&Jlpno Chili 150g\n",
       "Name: PROD_NAME, dtype: object"
      ]
     },
     "execution_count": 73,
     "metadata": {},
     "output_type": "execute_result"
    }
   ],
   "source": [
    "data['PROD_NAME'].head()"
   ]
  },
  {
   "cell_type": "code",
   "execution_count": 74,
   "metadata": {},
   "outputs": [],
   "source": [
    "#LETS EXTRACT THE WEIGHT FROM THE PRODUCT NAME "
   ]
  },
  {
   "cell_type": "code",
   "execution_count": 89,
   "metadata": {},
   "outputs": [],
   "source": [
    "data['PACK_SIZE']=data['PROD_NAME'].str.extract(\"(\\d+)\")#grabs any group of digits in the string !"
   ]
  },
  {
   "cell_type": "code",
   "execution_count": 90,
   "metadata": {},
   "outputs": [
    {
     "data": {
      "text/plain": [
       "0    175\n",
       "1    175\n",
       "2    170\n",
       "3    175\n",
       "4    150\n",
       "Name: PACK_SIZE, dtype: object"
      ]
     },
     "execution_count": 90,
     "metadata": {},
     "output_type": "execute_result"
    }
   ],
   "source": [
    "data['PACK_SIZE'].head()# but its still a object so we have to convert it to numberical"
   ]
  },
  {
   "cell_type": "code",
   "execution_count": 91,
   "metadata": {},
   "outputs": [],
   "source": [
    "data['PACK_SIZE'] = pd.to_numeric(data['PACK_SIZE'])"
   ]
  },
  {
   "cell_type": "code",
   "execution_count": 92,
   "metadata": {},
   "outputs": [
    {
     "data": {
      "text/plain": [
       "0    175\n",
       "1    175\n",
       "2    170\n",
       "3    175\n",
       "4    150\n",
       "Name: PACK_SIZE, dtype: int64"
      ]
     },
     "execution_count": 92,
     "metadata": {},
     "output_type": "execute_result"
    }
   ],
   "source": [
    "data.PACK_SIZE.head()# now the dtype is int64 "
   ]
  },
  {
   "cell_type": "code",
   "execution_count": 93,
   "metadata": {},
   "outputs": [
    {
     "data": {
      "text/html": [
       "<div>\n",
       "<style scoped>\n",
       "    .dataframe tbody tr th:only-of-type {\n",
       "        vertical-align: middle;\n",
       "    }\n",
       "\n",
       "    .dataframe tbody tr th {\n",
       "        vertical-align: top;\n",
       "    }\n",
       "\n",
       "    .dataframe thead th {\n",
       "        text-align: right;\n",
       "    }\n",
       "</style>\n",
       "<table border=\"1\" class=\"dataframe\">\n",
       "  <thead>\n",
       "    <tr style=\"text-align: right;\">\n",
       "      <th></th>\n",
       "      <th>DATE</th>\n",
       "      <th>STORE_NBR</th>\n",
       "      <th>LYLTY_CARD_NBR</th>\n",
       "      <th>TXN_ID</th>\n",
       "      <th>PROD_NBR</th>\n",
       "      <th>PROD_NAME</th>\n",
       "      <th>PROD_QTY</th>\n",
       "      <th>TOT_SALES</th>\n",
       "      <th>BRAND</th>\n",
       "      <th>PACK_SIZE</th>\n",
       "    </tr>\n",
       "  </thead>\n",
       "  <tbody>\n",
       "    <tr>\n",
       "      <th>0</th>\n",
       "      <td>43390</td>\n",
       "      <td>1</td>\n",
       "      <td>1000</td>\n",
       "      <td>1</td>\n",
       "      <td>5</td>\n",
       "      <td>Natural Chip        Compny SeaSalt175g</td>\n",
       "      <td>2</td>\n",
       "      <td>6.0</td>\n",
       "      <td>Natural</td>\n",
       "      <td>175</td>\n",
       "    </tr>\n",
       "    <tr>\n",
       "      <th>1</th>\n",
       "      <td>43599</td>\n",
       "      <td>1</td>\n",
       "      <td>1307</td>\n",
       "      <td>348</td>\n",
       "      <td>66</td>\n",
       "      <td>CCs Nacho Cheese    175g</td>\n",
       "      <td>3</td>\n",
       "      <td>6.3</td>\n",
       "      <td>CCs</td>\n",
       "      <td>175</td>\n",
       "    </tr>\n",
       "    <tr>\n",
       "      <th>2</th>\n",
       "      <td>43605</td>\n",
       "      <td>1</td>\n",
       "      <td>1343</td>\n",
       "      <td>383</td>\n",
       "      <td>61</td>\n",
       "      <td>Smiths Crinkle Cut  Chips Chicken 170g</td>\n",
       "      <td>2</td>\n",
       "      <td>2.9</td>\n",
       "      <td>Smiths</td>\n",
       "      <td>170</td>\n",
       "    </tr>\n",
       "    <tr>\n",
       "      <th>3</th>\n",
       "      <td>43329</td>\n",
       "      <td>2</td>\n",
       "      <td>2373</td>\n",
       "      <td>974</td>\n",
       "      <td>69</td>\n",
       "      <td>Smiths Chip Thinly  S/Cream&amp;Onion 175g</td>\n",
       "      <td>5</td>\n",
       "      <td>15.0</td>\n",
       "      <td>Smiths</td>\n",
       "      <td>175</td>\n",
       "    </tr>\n",
       "    <tr>\n",
       "      <th>4</th>\n",
       "      <td>43330</td>\n",
       "      <td>2</td>\n",
       "      <td>2426</td>\n",
       "      <td>1038</td>\n",
       "      <td>108</td>\n",
       "      <td>Kettle Tortilla ChpsHny&amp;Jlpno Chili 150g</td>\n",
       "      <td>3</td>\n",
       "      <td>13.8</td>\n",
       "      <td>Kettle</td>\n",
       "      <td>150</td>\n",
       "    </tr>\n",
       "  </tbody>\n",
       "</table>\n",
       "</div>"
      ],
      "text/plain": [
       "    DATE  STORE_NBR  LYLTY_CARD_NBR  TXN_ID  PROD_NBR  \\\n",
       "0  43390          1            1000       1         5   \n",
       "1  43599          1            1307     348        66   \n",
       "2  43605          1            1343     383        61   \n",
       "3  43329          2            2373     974        69   \n",
       "4  43330          2            2426    1038       108   \n",
       "\n",
       "                                  PROD_NAME  PROD_QTY  TOT_SALES    BRAND  \\\n",
       "0    Natural Chip        Compny SeaSalt175g         2        6.0  Natural   \n",
       "1                  CCs Nacho Cheese    175g         3        6.3      CCs   \n",
       "2    Smiths Crinkle Cut  Chips Chicken 170g         2        2.9   Smiths   \n",
       "3    Smiths Chip Thinly  S/Cream&Onion 175g         5       15.0   Smiths   \n",
       "4  Kettle Tortilla ChpsHny&Jlpno Chili 150g         3       13.8   Kettle   \n",
       "\n",
       "   PACK_SIZE  \n",
       "0        175  \n",
       "1        175  \n",
       "2        170  \n",
       "3        175  \n",
       "4        150  "
      ]
     },
     "execution_count": 93,
     "metadata": {},
     "output_type": "execute_result"
    }
   ],
   "source": [
    "data.head(5)"
   ]
  },
  {
   "cell_type": "code",
   "execution_count": 88,
   "metadata": {},
   "outputs": [],
   "source": [
    "# we gonna create a function for prod_name feature "
   ]
  },
  {
   "cell_type": "code",
   "execution_count": 94,
   "metadata": {},
   "outputs": [],
   "source": [
    "def clean_text(text):\n",
    "    text= re.sub('[&/]','',text)#removes the special characters & and /\n",
    "    text= re.sub('\\d\\w*','',text)#removes product weights \n",
    "    return text\n",
    "data['PROD_NAME']=data['PROD_NAME'].apply(clean_text)"
   ]
  },
  {
   "cell_type": "code",
   "execution_count": 95,
   "metadata": {},
   "outputs": [
    {
     "data": {
      "text/plain": [
       "0     Natural Chip        Compny SeaSalt\n",
       "1                   CCs Nacho Cheese    \n",
       "2     Smiths Crinkle Cut  Chips Chicken \n",
       "3       Smiths Chip Thinly  SCreamOnion \n",
       "4    Kettle Tortilla ChpsHnyJlpno Chili \n",
       "Name: PROD_NAME, dtype: object"
      ]
     },
     "execution_count": 95,
     "metadata": {},
     "output_type": "execute_result"
    }
   ],
   "source": [
    "data.PROD_NAME.head()"
   ]
  },
  {
   "cell_type": "code",
   "execution_count": 96,
   "metadata": {},
   "outputs": [],
   "source": [
    "clean_prod_names = data['PROD_NAME']\n",
    "string = ''.join(clean_prod_names)#created one Giant string to tokenize the words "
   ]
  },
  {
   "cell_type": "code",
   "execution_count": 97,
   "metadata": {},
   "outputs": [],
   "source": [
    "prod_word = word_tokenize(string)"
   ]
  },
  {
   "cell_type": "code",
   "execution_count": 98,
   "metadata": {},
   "outputs": [
    {
     "data": {
      "text/plain": [
       "['Natural',\n",
       " 'Chip',\n",
       " 'Compny',\n",
       " 'SeaSaltCCs',\n",
       " 'Nacho',\n",
       " 'Cheese',\n",
       " 'Smiths',\n",
       " 'Crinkle',\n",
       " 'Cut',\n",
       " 'Chips',\n",
       " 'Chicken',\n",
       " 'Smiths',\n",
       " 'Chip',\n",
       " 'Thinly',\n",
       " 'SCreamOnion',\n",
       " 'Kettle',\n",
       " 'Tortilla',\n",
       " 'ChpsHnyJlpno',\n",
       " 'Chili',\n",
       " 'Old',\n",
       " 'El',\n",
       " 'Paso',\n",
       " 'Salsa',\n",
       " 'Dip',\n",
       " 'Tomato',\n",
       " 'Mild',\n",
       " 'Smiths',\n",
       " 'Crinkle',\n",
       " 'Chips',\n",
       " 'Salt',\n",
       " 'Vinegar',\n",
       " 'Grain',\n",
       " 'Waves',\n",
       " 'Sweet',\n",
       " 'Chilli',\n",
       " 'Doritos',\n",
       " 'Corn',\n",
       " 'Chip',\n",
       " 'Mexican',\n",
       " 'Jalapeno',\n",
       " 'Grain',\n",
       " 'Waves',\n",
       " 'Sour',\n",
       " 'CreamChives',\n",
       " 'Smiths',\n",
       " 'Crinkle',\n",
       " 'Chips',\n",
       " 'Salt',\n",
       " 'Vinegar',\n",
       " 'Kettle',\n",
       " 'Sensations',\n",
       " 'Siracha',\n",
       " 'Lime',\n",
       " 'Twisties',\n",
       " 'Cheese',\n",
       " 'WW',\n",
       " 'Crinkle',\n",
       " 'Cut',\n",
       " 'Chicken',\n",
       " 'Thins',\n",
       " 'Chips',\n",
       " 'Light',\n",
       " 'Tangy',\n",
       " 'CCs',\n",
       " 'Original',\n",
       " 'Burger',\n",
       " 'Rings',\n",
       " 'NCC',\n",
       " 'Sour',\n",
       " 'Cream',\n",
       " 'Garden',\n",
       " 'Chives',\n",
       " 'Doritos',\n",
       " 'Corn',\n",
       " 'Chip',\n",
       " 'Southern',\n",
       " 'Chicken',\n",
       " 'Cheezels',\n",
       " 'Cheese',\n",
       " 'Box',\n",
       " 'Smiths',\n",
       " 'Crinkle',\n",
       " 'Original',\n",
       " 'NCC',\n",
       " 'Sour',\n",
       " 'Cream',\n",
       " 'Garden',\n",
       " 'Chives',\n",
       " 'Infzns',\n",
       " 'Crn',\n",
       " 'Crnchers',\n",
       " 'Tangy',\n",
       " 'Gcamole',\n",
       " 'Kettle',\n",
       " 'Sea',\n",
       " 'Salt',\n",
       " 'And',\n",
       " 'Vinegar',\n",
       " 'Kettle',\n",
       " 'Tortilla',\n",
       " 'ChpsHnyJlpno',\n",
       " 'Chili',\n",
       " 'Old',\n",
       " 'El',\n",
       " 'Paso',\n",
       " 'Salsa',\n",
       " 'Dip',\n",
       " 'Tomato',\n",
       " 'Mild',\n",
       " 'Smiths',\n",
       " 'Chip',\n",
       " 'Thinly',\n",
       " 'Cut',\n",
       " 'Original',\n",
       " 'Kettle',\n",
       " 'Original',\n",
       " 'Red',\n",
       " 'Rock',\n",
       " 'Deli',\n",
       " 'Thai',\n",
       " 'ChilliLime',\n",
       " 'Infzns',\n",
       " 'Crn',\n",
       " 'Crnchers',\n",
       " 'Tangy',\n",
       " 'Gcamole',\n",
       " 'Pringles',\n",
       " 'Sthrn',\n",
       " 'FriedChicken',\n",
       " 'Pringles',\n",
       " 'SweetSpcy',\n",
       " 'BBQ',\n",
       " 'Red',\n",
       " 'Rock',\n",
       " 'Deli',\n",
       " 'SR',\n",
       " 'Salsa',\n",
       " 'Mzzrlla',\n",
       " 'Thins',\n",
       " 'Chips',\n",
       " 'Originl',\n",
       " 'saltd',\n",
       " 'Red',\n",
       " 'Rock',\n",
       " 'Deli',\n",
       " 'Sp',\n",
       " 'Salt',\n",
       " 'Truffle',\n",
       " 'Smiths',\n",
       " 'Thinly',\n",
       " 'Swt',\n",
       " 'ChliSCreamKettle',\n",
       " 'Chilli',\n",
       " 'Doritos',\n",
       " 'Mexicana',\n",
       " 'Thins',\n",
       " 'Chips',\n",
       " 'Light',\n",
       " 'Tangy',\n",
       " 'Smiths',\n",
       " 'Crinkle',\n",
       " 'Cut',\n",
       " 'French',\n",
       " 'OnionDip',\n",
       " 'Natural',\n",
       " 'ChipCo',\n",
       " 'Hony',\n",
       " 'Soy',\n",
       " 'ChcknDorito',\n",
       " 'Corn',\n",
       " 'Chp',\n",
       " 'Supreme',\n",
       " 'Twisties',\n",
       " 'ChickenSmiths',\n",
       " 'Thinly',\n",
       " 'Cut',\n",
       " 'Roast',\n",
       " 'Chicken',\n",
       " 'Smiths',\n",
       " 'Crinkle',\n",
       " 'Cut',\n",
       " 'Tomato',\n",
       " 'Salsa',\n",
       " 'Kettle',\n",
       " 'Mozzarella',\n",
       " 'Basil',\n",
       " 'Pesto',\n",
       " 'Infzns',\n",
       " 'Crn',\n",
       " 'Crnchers',\n",
       " 'Tangy',\n",
       " 'Gcamole',\n",
       " 'Infuzions',\n",
       " 'Thai',\n",
       " 'SweetChili',\n",
       " 'PotatoMix',\n",
       " 'Smiths',\n",
       " 'Crinkle',\n",
       " 'Original',\n",
       " 'Kettle',\n",
       " 'Sensations',\n",
       " 'Camembert',\n",
       " 'Fig',\n",
       " 'Smith',\n",
       " 'Crinkle',\n",
       " 'Cut',\n",
       " 'Mac',\n",
       " 'N',\n",
       " 'Cheese',\n",
       " 'Kettle',\n",
       " 'Honey',\n",
       " 'Soy',\n",
       " 'Chicken',\n",
       " 'Thins',\n",
       " 'Chips',\n",
       " 'Seasonedchicken',\n",
       " 'Smiths',\n",
       " 'Crinkle',\n",
       " 'Cut',\n",
       " 'Salt',\n",
       " 'Vinegar',\n",
       " 'Smiths',\n",
       " 'Crinkle',\n",
       " 'Original',\n",
       " 'Infuzions',\n",
       " 'BBQ',\n",
       " 'Rib',\n",
       " 'Prawn',\n",
       " 'Crackers',\n",
       " 'GrnWves',\n",
       " 'Plus',\n",
       " 'Btroot',\n",
       " 'Chilli',\n",
       " 'Jam',\n",
       " 'Doritos',\n",
       " 'Corn',\n",
       " 'Chip',\n",
       " 'Mexican',\n",
       " 'Jalapeno',\n",
       " 'Kettle',\n",
       " 'Tortilla',\n",
       " 'ChpsHnyJlpno',\n",
       " 'Chili',\n",
       " 'Tyrrells',\n",
       " 'Crisps',\n",
       " 'Lightly',\n",
       " 'Salted',\n",
       " 'Kettle',\n",
       " 'Sea',\n",
       " 'Salt',\n",
       " 'And',\n",
       " 'Vinegar',\n",
       " 'Kettle',\n",
       " 'Sweet',\n",
       " 'Chilli',\n",
       " 'And',\n",
       " 'Sour',\n",
       " 'Cream',\n",
       " 'Pringles',\n",
       " 'Sthrn',\n",
       " 'FriedChicken',\n",
       " 'Doritos',\n",
       " 'Salsa',\n",
       " 'Medium',\n",
       " 'Infuzions',\n",
       " 'Thai',\n",
       " 'SweetChili',\n",
       " 'PotatoMix',\n",
       " 'Kettle',\n",
       " 'Swt',\n",
       " 'Pot',\n",
       " 'Sea',\n",
       " 'SaltPringles',\n",
       " 'SourCream',\n",
       " 'Onion',\n",
       " 'Dorito',\n",
       " 'Corn',\n",
       " 'Chp',\n",
       " 'Supreme',\n",
       " 'Doritos',\n",
       " 'Corn',\n",
       " 'Chips',\n",
       " 'Original',\n",
       " 'Twisties',\n",
       " 'ChickenTwisties',\n",
       " 'Cheese',\n",
       " 'Burger',\n",
       " 'Old',\n",
       " 'El',\n",
       " 'Paso',\n",
       " 'Salsa',\n",
       " 'Dip',\n",
       " 'Chnky',\n",
       " 'Tom',\n",
       " 'HtSmiths',\n",
       " 'Crinkle',\n",
       " 'Original',\n",
       " 'Cobs',\n",
       " 'Popd',\n",
       " 'SwtChlli',\n",
       " 'SrCream',\n",
       " 'Chips',\n",
       " 'Woolworths',\n",
       " 'Mild',\n",
       " 'Salsa',\n",
       " 'Natural',\n",
       " 'Chip',\n",
       " 'Co',\n",
       " 'Tmato',\n",
       " 'HrbSpce',\n",
       " 'Kettle',\n",
       " 'Chilli',\n",
       " 'Twisties',\n",
       " 'Cheese',\n",
       " 'Burger',\n",
       " 'Doritos',\n",
       " 'Corn',\n",
       " 'Chip',\n",
       " 'Mexican',\n",
       " 'Jalapeno',\n",
       " 'Kettle',\n",
       " 'Sweet',\n",
       " 'Chilli',\n",
       " 'And',\n",
       " 'Sour',\n",
       " 'Cream',\n",
       " 'Smiths',\n",
       " 'Crinkle',\n",
       " 'Cut',\n",
       " 'Chips',\n",
       " 'Original',\n",
       " 'Cobs',\n",
       " 'Popd',\n",
       " 'Sea',\n",
       " 'Salt',\n",
       " 'Chips',\n",
       " 'Smiths',\n",
       " 'Crinkle',\n",
       " 'Cut',\n",
       " 'Chips',\n",
       " 'ChsOnionSmiths',\n",
       " 'Crinkle',\n",
       " 'Cut',\n",
       " 'French',\n",
       " 'OnionDip',\n",
       " 'Kettle',\n",
       " 'Sweet',\n",
       " 'Chilli',\n",
       " 'And',\n",
       " 'Sour',\n",
       " 'Cream',\n",
       " 'Grain',\n",
       " 'Waves',\n",
       " 'Sweet',\n",
       " 'Chilli',\n",
       " 'French',\n",
       " 'Fries',\n",
       " 'Potato',\n",
       " 'Chips',\n",
       " 'Old',\n",
       " 'El',\n",
       " 'Paso',\n",
       " 'Salsa',\n",
       " 'Dip',\n",
       " 'Tomato',\n",
       " 'Med',\n",
       " 'Doritos',\n",
       " 'Corn',\n",
       " 'Chips',\n",
       " 'Cheese',\n",
       " 'Supreme',\n",
       " 'Pringles',\n",
       " 'Original',\n",
       " 'Crisps',\n",
       " 'Kettle',\n",
       " 'Chilli',\n",
       " 'Kettle',\n",
       " 'Original',\n",
       " 'RRD',\n",
       " 'Chilli',\n",
       " 'Coconut',\n",
       " 'Doritos',\n",
       " 'Corn',\n",
       " 'Chip',\n",
       " 'Mexican',\n",
       " 'Jalapeno',\n",
       " 'WW',\n",
       " 'Original',\n",
       " 'Corn',\n",
       " 'Chips',\n",
       " 'Kettle',\n",
       " 'Chilli',\n",
       " 'Doritos',\n",
       " 'Mexicana',\n",
       " 'Thins',\n",
       " 'Potato',\n",
       " 'Chips',\n",
       " 'Hot',\n",
       " 'Spicy',\n",
       " 'Cobs',\n",
       " 'Popd',\n",
       " 'SwtChlli',\n",
       " 'SrCream',\n",
       " 'Chips',\n",
       " 'WW',\n",
       " 'Crinkle',\n",
       " 'Cut',\n",
       " 'Chicken',\n",
       " 'Cobs',\n",
       " 'Popd',\n",
       " 'Sour',\n",
       " 'Crm',\n",
       " 'Chives',\n",
       " 'Chips',\n",
       " 'Smiths',\n",
       " 'Crnkle',\n",
       " 'Chip',\n",
       " 'Orgnl',\n",
       " 'Big',\n",
       " 'Bag',\n",
       " 'Doritos',\n",
       " 'Corn',\n",
       " 'Chips',\n",
       " 'Cheese',\n",
       " 'Supreme',\n",
       " 'Doritos',\n",
       " 'Corn',\n",
       " 'Chips',\n",
       " 'Nacho',\n",
       " 'Cheese',\n",
       " 'Twisties',\n",
       " 'Cheese',\n",
       " 'Kettle',\n",
       " 'Sensations',\n",
       " 'BBQMaple',\n",
       " 'Kettle',\n",
       " 'Original',\n",
       " 'Smiths',\n",
       " 'Chip',\n",
       " 'Thinly',\n",
       " 'SCreamOnion',\n",
       " 'Cobs',\n",
       " 'Popd',\n",
       " 'SwtChlli',\n",
       " 'SrCream',\n",
       " 'Chips',\n",
       " 'Doritos',\n",
       " 'Corn',\n",
       " 'Chips',\n",
       " 'Cheese',\n",
       " 'Supreme',\n",
       " 'Twisties',\n",
       " 'ChickenWW',\n",
       " 'DStyle',\n",
       " 'Chip',\n",
       " 'Sea',\n",
       " 'Salt',\n",
       " 'WW',\n",
       " 'Original',\n",
       " 'Corn',\n",
       " 'Chips',\n",
       " 'Pringles',\n",
       " 'Chicken',\n",
       " 'Salt',\n",
       " 'Crips',\n",
       " 'Old',\n",
       " 'El',\n",
       " 'Paso',\n",
       " 'Salsa',\n",
       " 'Dip',\n",
       " 'Tomato',\n",
       " 'Med',\n",
       " 'Smith',\n",
       " 'Crinkle',\n",
       " 'Cut',\n",
       " 'Mac',\n",
       " 'N',\n",
       " 'Cheese',\n",
       " 'Tyrrells',\n",
       " 'Crisps',\n",
       " 'Lightly',\n",
       " 'Salted',\n",
       " 'Smiths',\n",
       " 'Thinly',\n",
       " 'Cut',\n",
       " 'Roast',\n",
       " 'Chicken',\n",
       " 'RRD',\n",
       " 'Chilli',\n",
       " 'Coconut',\n",
       " 'Thins',\n",
       " 'Chips',\n",
       " 'Light',\n",
       " 'Tangy',\n",
       " 'Infuzions',\n",
       " 'Thai',\n",
       " 'SweetChili',\n",
       " 'PotatoMix',\n",
       " 'Doritos',\n",
       " 'Corn',\n",
       " 'Chip',\n",
       " 'Mexican',\n",
       " 'Jalapeno',\n",
       " 'WW',\n",
       " 'Original',\n",
       " 'Stacked',\n",
       " 'Chips',\n",
       " 'Doritos',\n",
       " 'Corn',\n",
       " 'Chip',\n",
       " 'Southern',\n",
       " 'Chicken',\n",
       " 'Cobs',\n",
       " 'Popd',\n",
       " 'SwtChlli',\n",
       " 'SrCream',\n",
       " 'Chips',\n",
       " 'Smiths',\n",
       " 'Crinkle',\n",
       " 'Cut',\n",
       " 'Chips',\n",
       " 'Chicken',\n",
       " 'Kettle',\n",
       " 'Sea',\n",
       " 'Salt',\n",
       " 'And',\n",
       " 'Vinegar',\n",
       " 'Smiths',\n",
       " 'Chip',\n",
       " 'Thinly',\n",
       " 'CutSaltVinegrCheezels',\n",
       " 'Cheese',\n",
       " 'Kettle',\n",
       " 'Tortilla',\n",
       " 'ChpsHnyJlpno',\n",
       " 'Chili',\n",
       " 'Twisties',\n",
       " 'Cheese',\n",
       " 'Old',\n",
       " 'El',\n",
       " 'Paso',\n",
       " 'Salsa',\n",
       " 'Dip',\n",
       " 'Tomato',\n",
       " 'Med',\n",
       " 'Tostitos',\n",
       " 'Lightly',\n",
       " 'Salted',\n",
       " 'Kettle',\n",
       " 'Sensations',\n",
       " 'Siracha',\n",
       " 'Lime',\n",
       " 'Thins',\n",
       " 'Chips',\n",
       " 'Light',\n",
       " 'Tangy',\n",
       " 'Doritos',\n",
       " 'Corn',\n",
       " 'Chip',\n",
       " 'Mexican',\n",
       " 'Jalapeno',\n",
       " 'Thins',\n",
       " 'Chips',\n",
       " 'Salt',\n",
       " 'Vinegar',\n",
       " 'Smiths',\n",
       " 'Crinkle',\n",
       " 'Cut',\n",
       " 'Chips',\n",
       " 'Barbecue',\n",
       " 'Kettle',\n",
       " 'Sea',\n",
       " 'Salt',\n",
       " 'And',\n",
       " 'Vinegar',\n",
       " 'Cheetos',\n",
       " 'Puffs',\n",
       " 'RRD',\n",
       " 'Sweet',\n",
       " 'Chilli',\n",
       " 'Sour',\n",
       " 'Cream',\n",
       " 'Kettle',\n",
       " 'Chilli',\n",
       " 'Kettle',\n",
       " 'Chilli',\n",
       " 'Doritos',\n",
       " 'Corn',\n",
       " 'Chip',\n",
       " 'Southern',\n",
       " 'Chicken',\n",
       " 'Smiths',\n",
       " 'Crinkle',\n",
       " 'Cut',\n",
       " 'Chips',\n",
       " 'ChsOnionWW',\n",
       " 'Crinkle',\n",
       " 'Cut',\n",
       " 'Original',\n",
       " 'Kettle',\n",
       " 'Sensations',\n",
       " 'Siracha',\n",
       " 'Lime',\n",
       " 'Tostitos',\n",
       " 'Splash',\n",
       " 'Of',\n",
       " 'Lime',\n",
       " 'Smith',\n",
       " 'Crinkle',\n",
       " 'Cut',\n",
       " 'Mac',\n",
       " 'N',\n",
       " 'Cheese',\n",
       " 'Smiths',\n",
       " 'Crinkle',\n",
       " 'Cut',\n",
       " 'French',\n",
       " 'OnionDip',\n",
       " 'Thins',\n",
       " 'Chips',\n",
       " 'Light',\n",
       " 'Tangy',\n",
       " 'Smiths',\n",
       " 'Crinkle',\n",
       " 'Original',\n",
       " 'Smiths',\n",
       " 'Crinkle',\n",
       " 'Cut',\n",
       " 'Chips',\n",
       " 'Chicken',\n",
       " 'Kettle',\n",
       " 'Swt',\n",
       " 'Pot',\n",
       " 'Sea',\n",
       " 'SaltCCs',\n",
       " 'Original',\n",
       " 'Pringles',\n",
       " 'SourCream',\n",
       " 'Onion',\n",
       " 'Pringles',\n",
       " 'Original',\n",
       " 'Crisps',\n",
       " 'Dorito',\n",
       " 'Corn',\n",
       " 'Chp',\n",
       " 'Supreme',\n",
       " 'Woolworths',\n",
       " 'Medium',\n",
       " 'Salsa',\n",
       " 'Kettle',\n",
       " 'Sensations',\n",
       " 'BBQMaple',\n",
       " 'Kettle',\n",
       " 'Tortilla',\n",
       " 'ChpsBtrootRicotta',\n",
       " 'Twisties',\n",
       " 'ChickenTwisties',\n",
       " 'Cheese',\n",
       " 'Twisties',\n",
       " 'Cheese',\n",
       " 'Burger',\n",
       " 'CCs',\n",
       " 'Tasty',\n",
       " 'Cheese',\n",
       " 'Thins',\n",
       " 'Chips',\n",
       " 'Seasonedchicken',\n",
       " 'Woolworths',\n",
       " 'Cheese',\n",
       " 'Rings',\n",
       " 'Smith',\n",
       " 'Crinkle',\n",
       " 'Cut',\n",
       " 'Mac',\n",
       " 'N',\n",
       " 'Cheese',\n",
       " 'Thins',\n",
       " 'Chips',\n",
       " 'Originl',\n",
       " 'saltd',\n",
       " 'Kettle',\n",
       " 'Tortilla',\n",
       " 'ChpsHnyJlpno',\n",
       " 'Chili',\n",
       " 'Pringles',\n",
       " 'SourCream',\n",
       " 'Onion',\n",
       " 'Tostitos',\n",
       " 'Smoked',\n",
       " 'Chipotle',\n",
       " 'Kettle',\n",
       " 'Chilli',\n",
       " 'WW',\n",
       " 'Crinkle',\n",
       " 'Cut',\n",
       " 'Chicken',\n",
       " 'Kettle',\n",
       " 'Swt',\n",
       " 'Pot',\n",
       " 'Sea',\n",
       " 'SaltInfzns',\n",
       " 'Crn',\n",
       " 'Crnchers',\n",
       " 'Tangy',\n",
       " 'Gcamole',\n",
       " 'Smith',\n",
       " 'Crinkle',\n",
       " 'Cut',\n",
       " 'Mac',\n",
       " 'N',\n",
       " 'Cheese',\n",
       " 'Kettle',\n",
       " 'Swt',\n",
       " 'Pot',\n",
       " 'Sea',\n",
       " 'SaltOld',\n",
       " 'El',\n",
       " 'Paso',\n",
       " 'Salsa',\n",
       " 'Dip',\n",
       " 'Chnky',\n",
       " 'Tom',\n",
       " 'HtPringles',\n",
       " 'Barbeque',\n",
       " 'Infzns',\n",
       " 'Crn',\n",
       " 'Crnchers',\n",
       " 'Tangy',\n",
       " 'Gcamole',\n",
       " 'Grain',\n",
       " 'Waves',\n",
       " 'Sweet',\n",
       " 'Chilli',\n",
       " 'WW',\n",
       " 'Supreme',\n",
       " 'Cheese',\n",
       " 'Corn',\n",
       " 'Chips',\n",
       " 'Pringles',\n",
       " 'Chicken',\n",
       " 'Salt',\n",
       " 'Crips',\n",
       " 'Doritos',\n",
       " 'Corn',\n",
       " 'Chips',\n",
       " 'Original',\n",
       " 'Doritos',\n",
       " 'Corn',\n",
       " 'Chips',\n",
       " 'Original',\n",
       " 'Pringles',\n",
       " 'Original',\n",
       " 'Crisps',\n",
       " 'Burger',\n",
       " 'Rings',\n",
       " 'Smiths',\n",
       " 'Crnkle',\n",
       " 'Chip',\n",
       " 'Orgnl',\n",
       " 'Big',\n",
       " 'Bag',\n",
       " 'Red',\n",
       " 'Rock',\n",
       " 'Deli',\n",
       " 'SR',\n",
       " 'Salsa',\n",
       " 'Mzzrlla',\n",
       " 'Smiths',\n",
       " 'Crinkle',\n",
       " 'Cut',\n",
       " 'Tomato',\n",
       " 'Salsa',\n",
       " 'Kettle',\n",
       " 'Sensations',\n",
       " 'Siracha',\n",
       " 'Lime',\n",
       " 'Pringles',\n",
       " 'Mystery',\n",
       " 'Flavour',\n",
       " 'Kettle',\n",
       " 'Tortilla',\n",
       " 'ChpsHnyJlpno',\n",
       " 'Chili',\n",
       " 'Doritos',\n",
       " 'Corn',\n",
       " 'Chips',\n",
       " 'Nacho',\n",
       " 'Cheese',\n",
       " 'Tyrrells',\n",
       " 'Crisps',\n",
       " 'Lightly',\n",
       " 'Salted',\n",
       " 'Smiths',\n",
       " 'Crinkle',\n",
       " 'Cut',\n",
       " 'Chips',\n",
       " 'ChsOnionPringles',\n",
       " 'Barbeque',\n",
       " 'Smiths',\n",
       " 'Thinly',\n",
       " 'Cut',\n",
       " 'Roast',\n",
       " 'Chicken',\n",
       " 'Dorito',\n",
       " 'Corn',\n",
       " 'Chp',\n",
       " 'Supreme',\n",
       " 'Pringles',\n",
       " 'Mystery',\n",
       " 'Flavour',\n",
       " 'Tyrrells',\n",
       " 'Crisps',\n",
       " 'Ched',\n",
       " 'Chives',\n",
       " 'Tyrrells',\n",
       " 'Crisps',\n",
       " 'Lightly',\n",
       " 'Salted',\n",
       " 'Thins',\n",
       " 'Chips',\n",
       " 'Light',\n",
       " 'Tangy',\n",
       " 'Kettle',\n",
       " 'Sensations',\n",
       " 'BBQMaple',\n",
       " 'WW',\n",
       " 'Original',\n",
       " 'Stacked',\n",
       " 'Chips',\n",
       " 'Smiths',\n",
       " 'Crinkle',\n",
       " 'Cut',\n",
       " 'Chips',\n",
       " 'Original',\n",
       " 'Old',\n",
       " 'El',\n",
       " 'Paso',\n",
       " 'Salsa',\n",
       " 'Dip',\n",
       " 'Tomato',\n",
       " 'Mild',\n",
       " 'Cobs',\n",
       " 'Popd',\n",
       " 'Sour',\n",
       " 'Crm',\n",
       " 'Chives',\n",
       " 'Chips',\n",
       " 'WW',\n",
       " 'Original',\n",
       " 'Stacked',\n",
       " 'Chips',\n",
       " 'CCs',\n",
       " 'Original',\n",
       " 'Thins',\n",
       " 'Potato',\n",
       " 'Chips',\n",
       " 'Hot',\n",
       " 'Spicy',\n",
       " 'Red',\n",
       " 'Rock',\n",
       " 'Deli',\n",
       " 'Sp',\n",
       " 'Salt',\n",
       " 'Truffle',\n",
       " 'Smiths',\n",
       " 'Crinkle',\n",
       " 'Cut',\n",
       " 'Chips',\n",
       " 'Chicken',\n",
       " 'Natural',\n",
       " 'Chip',\n",
       " 'Co',\n",
       " 'Tmato',\n",
       " 'HrbSpce',\n",
       " 'WW',\n",
       " 'Crinkle',\n",
       " 'Cut',\n",
       " 'Chicken',\n",
       " 'Kettle',\n",
       " 'Chilli',\n",
       " 'Doritos',\n",
       " 'Corn',\n",
       " 'Chips',\n",
       " 'Cheese',\n",
       " 'Supreme',\n",
       " 'Cheezels',\n",
       " 'Cheese',\n",
       " 'Twisties',\n",
       " 'ChickenSmiths',\n",
       " 'Crinkle',\n",
       " 'Cut',\n",
       " 'French',\n",
       " 'OnionDip',\n",
       " 'Thins',\n",
       " 'Potato',\n",
       " 'Chips',\n",
       " 'Hot',\n",
       " 'Spicy',\n",
       " 'Red',\n",
       " 'Rock',\n",
       " 'Deli',\n",
       " 'SR',\n",
       " 'Salsa',\n",
       " 'Mzzrlla',\n",
       " 'Smiths',\n",
       " 'Crinkle',\n",
       " 'Cut',\n",
       " 'Tomato',\n",
       " 'Salsa',\n",
       " 'Snbts',\n",
       " 'Whlgrn',\n",
       " 'Crisps',\n",
       " 'CheddrMstrd',\n",
       " 'Grain',\n",
       " 'Waves',\n",
       " 'Sweet',\n",
       " 'Chilli',\n",
       " 'Cheezels',\n",
       " 'Cheese',\n",
       " 'Box',\n",
       " 'Pringles',\n",
       " 'Chicken',\n",
       " 'Salt',\n",
       " 'Crips',\n",
       " 'Cheetos',\n",
       " 'Chs',\n",
       " 'Bacon',\n",
       " 'Balls',\n",
       " 'Smiths',\n",
       " 'Crinkle',\n",
       " 'Chips',\n",
       " 'Salt',\n",
       " 'Vinegar',\n",
       " 'WW',\n",
       " 'Original',\n",
       " 'Stacked',\n",
       " 'Chips',\n",
       " 'Pringles',\n",
       " 'Sthrn',\n",
       " 'FriedChicken',\n",
       " 'Pringles',\n",
       " 'Slt',\n",
       " 'Vingar',\n",
       " 'Smiths',\n",
       " 'Crinkle',\n",
       " 'Cut',\n",
       " 'Tomato',\n",
       " 'Salsa',\n",
       " 'Natural',\n",
       " 'ChipCo',\n",
       " 'Hony',\n",
       " 'Soy',\n",
       " 'ChcknCheezels',\n",
       " 'Cheese',\n",
       " 'Dorito',\n",
       " 'Corn',\n",
       " 'Chp',\n",
       " 'Supreme',\n",
       " 'Kettle',\n",
       " 'Tortilla',\n",
       " 'ChpsHnyJlpno',\n",
       " 'Chili',\n",
       " 'Infzns',\n",
       " 'Crn',\n",
       " 'Crnchers',\n",
       " 'Tangy',\n",
       " 'Gcamole',\n",
       " 'Kettle',\n",
       " 'Chilli',\n",
       " 'Pringles',\n",
       " 'Original',\n",
       " 'Crisps',\n",
       " 'Cobs',\n",
       " 'Popd',\n",
       " 'Sea',\n",
       " 'Salt',\n",
       " 'Chips',\n",
       " 'Thins',\n",
       " 'Chips',\n",
       " 'Seasonedchicken',\n",
       " 'Grain',\n",
       " 'Waves',\n",
       " 'Sweet',\n",
       " 'Chilli',\n",
       " 'Cheezels',\n",
       " 'Cheese',\n",
       " 'Kettle',\n",
       " 'Sensations',\n",
       " 'Siracha',\n",
       " 'Lime',\n",
       " 'Thins',\n",
       " 'Chips',\n",
       " 'Light',\n",
       " 'Tangy',\n",
       " 'Kettle',\n",
       " 'Mozzarella',\n",
       " 'Basil',\n",
       " 'Pesto',\n",
       " 'Kettle',\n",
       " 'Mozzarella',\n",
       " ...]"
      ]
     },
     "execution_count": 98,
     "metadata": {},
     "output_type": "execute_result"
    }
   ],
   "source": [
    "prod_word"
   ]
  },
  {
   "cell_type": "code",
   "execution_count": 99,
   "metadata": {},
   "outputs": [
    {
     "data": {
      "text/plain": [
       "FreqDist({'Chips': 49770, 'Kettle': 38851, 'Cheese': 27890, 'Smiths': 26969, 'Salt': 24719, 'Crinkle': 23960, 'Pringles': 23552, 'Doritos': 23431, 'Corn': 22063, 'Original': 21560, ...})"
      ]
     },
     "execution_count": 99,
     "metadata": {},
     "output_type": "execute_result"
    }
   ],
   "source": [
    "word_freq = fdist(prod_word)\n",
    "word_freq# counting word frequency "
   ]
  },
  {
   "cell_type": "code",
   "execution_count": 102,
   "metadata": {},
   "outputs": [],
   "source": [
    "freq_df = pd.DataFrame(list(word_freq.items()),columns = ['Word','Frequency']).sort_values(by='Frequency',ascending=False)"
   ]
  },
  {
   "cell_type": "code",
   "execution_count": 104,
   "metadata": {},
   "outputs": [
    {
     "ename": "NameError",
     "evalue": "name 'freq_df' is not defined",
     "output_type": "error",
     "traceback": [
      "\u001b[1;31m---------------------------------------------------------------------------\u001b[0m",
      "\u001b[1;31mNameError\u001b[0m                                 Traceback (most recent call last)",
      "\u001b[1;32m<ipython-input-104-9a27a647aee9>\u001b[0m in \u001b[0;36m<module>\u001b[1;34m\u001b[0m\n\u001b[1;32m----> 1\u001b[1;33m \u001b[0mfreq_df\u001b[0m\u001b[1;33m.\u001b[0m\u001b[0mhead\u001b[0m\u001b[1;33m(\u001b[0m\u001b[1;36m10\u001b[0m\u001b[1;33m)\u001b[0m\u001b[1;33m\u001b[0m\u001b[1;33m\u001b[0m\u001b[0m\n\u001b[0m",
      "\u001b[1;31mNameError\u001b[0m: name 'freq_df' is not defined"
     ]
    }
   ],
   "source": [
    "freq_df.head(10)"
   ]
  },
  {
   "cell_type": "code",
   "execution_count": 100,
   "metadata": {},
   "outputs": [],
   "source": [
    "data['PROD_NAME']= data['PROD_NAME'].apply(lambda x:x.lower())#Convert all to lower case then we gonna convert it to titles "
   ]
  },
  {
   "cell_type": "code",
   "execution_count": 101,
   "metadata": {},
   "outputs": [
    {
     "data": {
      "text/plain": [
       "0     natural chip        compny seasalt\n",
       "1                   ccs nacho cheese    \n",
       "2     smiths crinkle cut  chips chicken \n",
       "3       smiths chip thinly  screamonion \n",
       "4    kettle tortilla chpshnyjlpno chili \n",
       "Name: PROD_NAME, dtype: object"
      ]
     },
     "execution_count": 101,
     "metadata": {},
     "output_type": "execute_result"
    }
   ],
   "source": [
    "data['PROD_NAME'].head()"
   ]
  },
  {
   "cell_type": "code",
   "execution_count": 102,
   "metadata": {},
   "outputs": [],
   "source": [
    "data = data[~data['PROD_NAME'].str.contains('salsa')]\n"
   ]
  },
  {
   "cell_type": "code",
   "execution_count": 103,
   "metadata": {},
   "outputs": [
    {
     "data": {
      "text/plain": [
       "0     natural chip        compny seasalt\n",
       "1                   ccs nacho cheese    \n",
       "2     smiths crinkle cut  chips chicken \n",
       "3       smiths chip thinly  screamonion \n",
       "4    kettle tortilla chpshnyjlpno chili \n",
       "Name: PROD_NAME, dtype: object"
      ]
     },
     "execution_count": 103,
     "metadata": {},
     "output_type": "execute_result"
    }
   ],
   "source": [
    "data['PROD_NAME'].head()"
   ]
  },
  {
   "cell_type": "code",
   "execution_count": 105,
   "metadata": {},
   "outputs": [],
   "source": [
    "data['PROD_NAME']=data['PROD_NAME'].apply(lambda x:x.title())# after we converted to lower case we made all the chips names into titles"
   ]
  },
  {
   "cell_type": "code",
   "execution_count": 111,
   "metadata": {},
   "outputs": [
    {
     "data": {
      "text/html": [
       "<div>\n",
       "<style scoped>\n",
       "    .dataframe tbody tr th:only-of-type {\n",
       "        vertical-align: middle;\n",
       "    }\n",
       "\n",
       "    .dataframe tbody tr th {\n",
       "        vertical-align: top;\n",
       "    }\n",
       "\n",
       "    .dataframe thead th {\n",
       "        text-align: right;\n",
       "    }\n",
       "</style>\n",
       "<table border=\"1\" class=\"dataframe\">\n",
       "  <thead>\n",
       "    <tr style=\"text-align: right;\">\n",
       "      <th></th>\n",
       "      <th>DATE</th>\n",
       "      <th>STORE_NBR</th>\n",
       "      <th>LYLTY_CARD_NBR</th>\n",
       "      <th>TXN_ID</th>\n",
       "      <th>PROD_NBR</th>\n",
       "      <th>PROD_NAME</th>\n",
       "      <th>PROD_QTY</th>\n",
       "      <th>TOT_SALES</th>\n",
       "      <th>PACK_SIZE</th>\n",
       "    </tr>\n",
       "  </thead>\n",
       "  <tbody>\n",
       "    <tr>\n",
       "      <th>0</th>\n",
       "      <td>2018-10-17</td>\n",
       "      <td>1</td>\n",
       "      <td>1000</td>\n",
       "      <td>1</td>\n",
       "      <td>5</td>\n",
       "      <td>Natural Chip        Compny Seasalt</td>\n",
       "      <td>2</td>\n",
       "      <td>6.0</td>\n",
       "      <td>175</td>\n",
       "    </tr>\n",
       "    <tr>\n",
       "      <th>1</th>\n",
       "      <td>2019-05-14</td>\n",
       "      <td>1</td>\n",
       "      <td>1307</td>\n",
       "      <td>348</td>\n",
       "      <td>66</td>\n",
       "      <td>Ccs Nacho Cheese</td>\n",
       "      <td>3</td>\n",
       "      <td>6.3</td>\n",
       "      <td>175</td>\n",
       "    </tr>\n",
       "    <tr>\n",
       "      <th>2</th>\n",
       "      <td>2019-05-20</td>\n",
       "      <td>1</td>\n",
       "      <td>1343</td>\n",
       "      <td>383</td>\n",
       "      <td>61</td>\n",
       "      <td>Smiths Crinkle Cut  Chips Chicken</td>\n",
       "      <td>2</td>\n",
       "      <td>2.9</td>\n",
       "      <td>170</td>\n",
       "    </tr>\n",
       "    <tr>\n",
       "      <th>3</th>\n",
       "      <td>2018-08-17</td>\n",
       "      <td>2</td>\n",
       "      <td>2373</td>\n",
       "      <td>974</td>\n",
       "      <td>69</td>\n",
       "      <td>Smiths Chip Thinly  Screamonion</td>\n",
       "      <td>5</td>\n",
       "      <td>15.0</td>\n",
       "      <td>175</td>\n",
       "    </tr>\n",
       "    <tr>\n",
       "      <th>4</th>\n",
       "      <td>2018-08-18</td>\n",
       "      <td>2</td>\n",
       "      <td>2426</td>\n",
       "      <td>1038</td>\n",
       "      <td>108</td>\n",
       "      <td>Kettle Tortilla Chpshnyjlpno Chili</td>\n",
       "      <td>3</td>\n",
       "      <td>13.8</td>\n",
       "      <td>150</td>\n",
       "    </tr>\n",
       "  </tbody>\n",
       "</table>\n",
       "</div>"
      ],
      "text/plain": [
       "        DATE  STORE_NBR  LYLTY_CARD_NBR  TXN_ID  PROD_NBR  \\\n",
       "0 2018-10-17          1            1000       1         5   \n",
       "1 2019-05-14          1            1307     348        66   \n",
       "2 2019-05-20          1            1343     383        61   \n",
       "3 2018-08-17          2            2373     974        69   \n",
       "4 2018-08-18          2            2426    1038       108   \n",
       "\n",
       "                             PROD_NAME  PROD_QTY  TOT_SALES  PACK_SIZE  \n",
       "0   Natural Chip        Compny Seasalt         2        6.0        175  \n",
       "1                 Ccs Nacho Cheese             3        6.3        175  \n",
       "2   Smiths Crinkle Cut  Chips Chicken          2        2.9        170  \n",
       "3     Smiths Chip Thinly  Screamonion          5       15.0        175  \n",
       "4  Kettle Tortilla Chpshnyjlpno Chili          3       13.8        150  "
      ]
     },
     "execution_count": 111,
     "metadata": {},
     "output_type": "execute_result"
    }
   ],
   "source": [
    "data.head()"
   ]
  },
  {
   "cell_type": "markdown",
   "metadata": {},
   "source": [
    "#lets move on to the next feature to explore"
   ]
  },
  {
   "cell_type": "code",
   "execution_count": 107,
   "metadata": {},
   "outputs": [
    {
     "data": {
      "text/plain": [
       "2      220070\n",
       "1       25476\n",
       "5         415\n",
       "3         408\n",
       "4         371\n",
       "200         2\n",
       "Name: PROD_QTY, dtype: int64"
      ]
     },
     "execution_count": 107,
     "metadata": {},
     "output_type": "execute_result"
    }
   ],
   "source": [
    "data['PROD_QTY'].value_counts()#200 seems strange lets look closer into that "
   ]
  },
  {
   "cell_type": "code",
   "execution_count": 113,
   "metadata": {},
   "outputs": [
    {
     "data": {
      "text/html": [
       "<div>\n",
       "<style scoped>\n",
       "    .dataframe tbody tr th:only-of-type {\n",
       "        vertical-align: middle;\n",
       "    }\n",
       "\n",
       "    .dataframe tbody tr th {\n",
       "        vertical-align: top;\n",
       "    }\n",
       "\n",
       "    .dataframe thead th {\n",
       "        text-align: right;\n",
       "    }\n",
       "</style>\n",
       "<table border=\"1\" class=\"dataframe\">\n",
       "  <thead>\n",
       "    <tr style=\"text-align: right;\">\n",
       "      <th></th>\n",
       "      <th>DATE</th>\n",
       "      <th>STORE_NBR</th>\n",
       "      <th>LYLTY_CARD_NBR</th>\n",
       "      <th>TXN_ID</th>\n",
       "      <th>PROD_NBR</th>\n",
       "      <th>PROD_NAME</th>\n",
       "      <th>PROD_QTY</th>\n",
       "      <th>TOT_SALES</th>\n",
       "      <th>PACK_SIZE</th>\n",
       "    </tr>\n",
       "  </thead>\n",
       "  <tbody>\n",
       "    <tr>\n",
       "      <th>69762</th>\n",
       "      <td>2018-08-19</td>\n",
       "      <td>226</td>\n",
       "      <td>226000</td>\n",
       "      <td>226201</td>\n",
       "      <td>4</td>\n",
       "      <td>Dorito Corn Chp     Supreme</td>\n",
       "      <td>200</td>\n",
       "      <td>650.0</td>\n",
       "      <td>380</td>\n",
       "    </tr>\n",
       "    <tr>\n",
       "      <th>69763</th>\n",
       "      <td>2019-05-20</td>\n",
       "      <td>226</td>\n",
       "      <td>226000</td>\n",
       "      <td>226210</td>\n",
       "      <td>4</td>\n",
       "      <td>Dorito Corn Chp     Supreme</td>\n",
       "      <td>200</td>\n",
       "      <td>650.0</td>\n",
       "      <td>380</td>\n",
       "    </tr>\n",
       "  </tbody>\n",
       "</table>\n",
       "</div>"
      ],
      "text/plain": [
       "            DATE  STORE_NBR  LYLTY_CARD_NBR  TXN_ID  PROD_NBR  \\\n",
       "69762 2018-08-19        226          226000  226201         4   \n",
       "69763 2019-05-20        226          226000  226210         4   \n",
       "\n",
       "                          PROD_NAME  PROD_QTY  TOT_SALES  PACK_SIZE  \n",
       "69762  Dorito Corn Chp     Supreme        200      650.0        380  \n",
       "69763  Dorito Corn Chp     Supreme        200      650.0        380  "
      ]
     },
     "execution_count": 113,
     "metadata": {},
     "output_type": "execute_result"
    }
   ],
   "source": [
    "data.loc[data['PROD_QTY']==200]"
   ]
  },
  {
   "cell_type": "code",
   "execution_count": 114,
   "metadata": {},
   "outputs": [],
   "source": [
    "# lets dive further into this customer "
   ]
  },
  {
   "cell_type": "code",
   "execution_count": 108,
   "metadata": {},
   "outputs": [
    {
     "data": {
      "text/html": [
       "<div>\n",
       "<style scoped>\n",
       "    .dataframe tbody tr th:only-of-type {\n",
       "        vertical-align: middle;\n",
       "    }\n",
       "\n",
       "    .dataframe tbody tr th {\n",
       "        vertical-align: top;\n",
       "    }\n",
       "\n",
       "    .dataframe thead th {\n",
       "        text-align: right;\n",
       "    }\n",
       "</style>\n",
       "<table border=\"1\" class=\"dataframe\">\n",
       "  <thead>\n",
       "    <tr style=\"text-align: right;\">\n",
       "      <th></th>\n",
       "      <th>DATE</th>\n",
       "      <th>STORE_NBR</th>\n",
       "      <th>LYLTY_CARD_NBR</th>\n",
       "      <th>TXN_ID</th>\n",
       "      <th>PROD_NBR</th>\n",
       "      <th>PROD_NAME</th>\n",
       "      <th>PROD_QTY</th>\n",
       "      <th>TOT_SALES</th>\n",
       "      <th>BRAND</th>\n",
       "      <th>PACK_SIZE</th>\n",
       "    </tr>\n",
       "  </thead>\n",
       "  <tbody>\n",
       "    <tr>\n",
       "      <th>69762</th>\n",
       "      <td>43331</td>\n",
       "      <td>226</td>\n",
       "      <td>226000</td>\n",
       "      <td>226201</td>\n",
       "      <td>4</td>\n",
       "      <td>Dorito Corn Chp     Supreme</td>\n",
       "      <td>200</td>\n",
       "      <td>650.0</td>\n",
       "      <td>Doritos</td>\n",
       "      <td>380</td>\n",
       "    </tr>\n",
       "    <tr>\n",
       "      <th>69763</th>\n",
       "      <td>43605</td>\n",
       "      <td>226</td>\n",
       "      <td>226000</td>\n",
       "      <td>226210</td>\n",
       "      <td>4</td>\n",
       "      <td>Dorito Corn Chp     Supreme</td>\n",
       "      <td>200</td>\n",
       "      <td>650.0</td>\n",
       "      <td>Doritos</td>\n",
       "      <td>380</td>\n",
       "    </tr>\n",
       "  </tbody>\n",
       "</table>\n",
       "</div>"
      ],
      "text/plain": [
       "        DATE  STORE_NBR  LYLTY_CARD_NBR  TXN_ID  PROD_NBR  \\\n",
       "69762  43331        226          226000  226201         4   \n",
       "69763  43605        226          226000  226210         4   \n",
       "\n",
       "                          PROD_NAME  PROD_QTY  TOT_SALES    BRAND  PACK_SIZE  \n",
       "69762  Dorito Corn Chp     Supreme        200      650.0  Doritos        380  \n",
       "69763  Dorito Corn Chp     Supreme        200      650.0  Doritos        380  "
      ]
     },
     "execution_count": 108,
     "metadata": {},
     "output_type": "execute_result"
    }
   ],
   "source": [
    "data.loc[data['LYLTY_CARD_NBR']==226000]"
   ]
  },
  {
   "cell_type": "code",
   "execution_count": 109,
   "metadata": {},
   "outputs": [],
   "source": [
    "#he only made two transactions so we know he is not retail but purchasing for commercial purposes so we can drop him "
   ]
  },
  {
   "cell_type": "code",
   "execution_count": 110,
   "metadata": {},
   "outputs": [],
   "source": [
    "data.drop(data.index[data['LYLTY_CARD_NBR']==226000], inplace = True)#dropping this customer , we dont want outliers "
   ]
  },
  {
   "cell_type": "code",
   "execution_count": 111,
   "metadata": {},
   "outputs": [],
   "source": [
    "customer_data.drop(customer_data.index[customer_data['LYLTY_CARD_NBR']==226000],inplace = True)"
   ]
  },
  {
   "cell_type": "code",
   "execution_count": 112,
   "metadata": {},
   "outputs": [
    {
     "data": {
      "text/html": [
       "<div>\n",
       "<style scoped>\n",
       "    .dataframe tbody tr th:only-of-type {\n",
       "        vertical-align: middle;\n",
       "    }\n",
       "\n",
       "    .dataframe tbody tr th {\n",
       "        vertical-align: top;\n",
       "    }\n",
       "\n",
       "    .dataframe thead th {\n",
       "        text-align: right;\n",
       "    }\n",
       "</style>\n",
       "<table border=\"1\" class=\"dataframe\">\n",
       "  <thead>\n",
       "    <tr style=\"text-align: right;\">\n",
       "      <th></th>\n",
       "      <th>DATE</th>\n",
       "      <th>STORE_NBR</th>\n",
       "      <th>LYLTY_CARD_NBR</th>\n",
       "      <th>TXN_ID</th>\n",
       "      <th>PROD_NBR</th>\n",
       "      <th>PROD_NAME</th>\n",
       "      <th>PROD_QTY</th>\n",
       "      <th>TOT_SALES</th>\n",
       "      <th>BRAND</th>\n",
       "      <th>PACK_SIZE</th>\n",
       "    </tr>\n",
       "  </thead>\n",
       "  <tbody>\n",
       "  </tbody>\n",
       "</table>\n",
       "</div>"
      ],
      "text/plain": [
       "Empty DataFrame\n",
       "Columns: [DATE, STORE_NBR, LYLTY_CARD_NBR, TXN_ID, PROD_NBR, PROD_NAME, PROD_QTY, TOT_SALES, BRAND, PACK_SIZE]\n",
       "Index: []"
      ]
     },
     "execution_count": 112,
     "metadata": {},
     "output_type": "execute_result"
    }
   ],
   "source": [
    "data.loc[data['LYLTY_CARD_NBR']==226000]# ROW HAS BEEN DROPPED "
   ]
  },
  {
   "cell_type": "code",
   "execution_count": 113,
   "metadata": {},
   "outputs": [
    {
     "data": {
      "text/plain": [
       "364"
      ]
     },
     "execution_count": 113,
     "metadata": {},
     "output_type": "execute_result"
    }
   ],
   "source": [
    "data['DATE'].nunique()# HMMM theres 365 days in the year so what day is missing lets look further into this "
   ]
  },
  {
   "cell_type": "code",
   "execution_count": 114,
   "metadata": {},
   "outputs": [
    {
     "data": {
      "text/plain": [
       "DatetimeIndex(['2018-07-01', '2018-07-02', '2018-07-03', '2018-07-04',\n",
       "               '2018-07-05', '2018-07-06', '2018-07-07', '2018-07-08',\n",
       "               '2018-07-09', '2018-07-10',\n",
       "               ...\n",
       "               '2019-06-21', '2019-06-22', '2019-06-23', '2019-06-24',\n",
       "               '2019-06-25', '2019-06-26', '2019-06-27', '2019-06-28',\n",
       "               '2019-06-29', '2019-06-30'],\n",
       "              dtype='datetime64[ns]', length=365, freq=None)"
      ]
     },
     "execution_count": 114,
     "metadata": {},
     "output_type": "execute_result"
    }
   ],
   "source": [
    "pd.date_range(start ='2018-07-01',end = '2019-06-30').difference(data['DATE'])#of course Christmas day is closed "
   ]
  },
  {
   "cell_type": "code",
   "execution_count": 116,
   "metadata": {},
   "outputs": [
    {
     "data": {
      "text/plain": [
       "43646"
      ]
     },
     "execution_count": 116,
     "metadata": {},
     "output_type": "execute_result"
    }
   ],
   "source": [
    "data['DATE'].max()#thats how we get values to use to find difference "
   ]
  },
  {
   "cell_type": "code",
   "execution_count": 117,
   "metadata": {},
   "outputs": [
    {
     "data": {
      "text/plain": [
       "43282"
      ]
     },
     "execution_count": 117,
     "metadata": {},
     "output_type": "execute_result"
    }
   ],
   "source": [
    "data['DATE'].min()"
   ]
  },
  {
   "cell_type": "code",
   "execution_count": 118,
   "metadata": {},
   "outputs": [],
   "source": [
    "#CREATING NEW DATA FRAME that AGGREGATES TOTAL sales "
   ]
  },
  {
   "cell_type": "code",
   "execution_count": 119,
   "metadata": {},
   "outputs": [],
   "source": [
    "a = pd.pivot_table(data,values='TOT_SALES',index='DATE',aggfunc ='sum')"
   ]
  },
  {
   "cell_type": "code",
   "execution_count": 120,
   "metadata": {},
   "outputs": [
    {
     "data": {
      "text/html": [
       "<div>\n",
       "<style scoped>\n",
       "    .dataframe tbody tr th:only-of-type {\n",
       "        vertical-align: middle;\n",
       "    }\n",
       "\n",
       "    .dataframe tbody tr th {\n",
       "        vertical-align: top;\n",
       "    }\n",
       "\n",
       "    .dataframe thead th {\n",
       "        text-align: right;\n",
       "    }\n",
       "</style>\n",
       "<table border=\"1\" class=\"dataframe\">\n",
       "  <thead>\n",
       "    <tr style=\"text-align: right;\">\n",
       "      <th></th>\n",
       "      <th>TOT_SALES</th>\n",
       "    </tr>\n",
       "    <tr>\n",
       "      <th>DATE</th>\n",
       "      <th></th>\n",
       "    </tr>\n",
       "  </thead>\n",
       "  <tbody>\n",
       "    <tr>\n",
       "      <th>43282</th>\n",
       "      <td>4920.1</td>\n",
       "    </tr>\n",
       "    <tr>\n",
       "      <th>43283</th>\n",
       "      <td>4877.0</td>\n",
       "    </tr>\n",
       "    <tr>\n",
       "      <th>43284</th>\n",
       "      <td>4954.7</td>\n",
       "    </tr>\n",
       "    <tr>\n",
       "      <th>43285</th>\n",
       "      <td>4968.1</td>\n",
       "    </tr>\n",
       "    <tr>\n",
       "      <th>43286</th>\n",
       "      <td>4682.0</td>\n",
       "    </tr>\n",
       "  </tbody>\n",
       "</table>\n",
       "</div>"
      ],
      "text/plain": [
       "       TOT_SALES\n",
       "DATE            \n",
       "43282     4920.1\n",
       "43283     4877.0\n",
       "43284     4954.7\n",
       "43285     4968.1\n",
       "43286     4682.0"
      ]
     },
     "execution_count": 120,
     "metadata": {},
     "output_type": "execute_result"
    }
   ],
   "source": [
    "a.head()"
   ]
  },
  {
   "cell_type": "code",
   "execution_count": 121,
   "metadata": {},
   "outputs": [
    {
     "data": {
      "text/plain": [
       "0    175\n",
       "1    175\n",
       "2    170\n",
       "3    175\n",
       "4    150\n",
       "Name: PACK_SIZE, dtype: int64"
      ]
     },
     "execution_count": 121,
     "metadata": {},
     "output_type": "execute_result"
    }
   ],
   "source": [
    "data.PACK_SIZE.head()"
   ]
  },
  {
   "cell_type": "code",
   "execution_count": 122,
   "metadata": {},
   "outputs": [
    {
     "data": {
      "text/plain": [
       "<matplotlib.axes._subplots.AxesSubplot at 0x27c056be608>"
      ]
     },
     "execution_count": 122,
     "metadata": {},
     "output_type": "execute_result"
    },
    {
     "data": {
      "image/png": "[encoded data removed]",
      "text/plain": [
       "<Figure size 432x288 with 1 Axes>"
      ]
     },
     "metadata": {
      "needs_background": "light"
     },
     "output_type": "display_data"
    }
   ],
   "source": [
    "data.PACK_SIZE.hist()"
   ]
  },
  {
   "cell_type": "code",
   "execution_count": 123,
   "metadata": {},
   "outputs": [
    {
     "data": {
      "text/plain": [
       "array([175, 170, 150, 330, 210, 270, 220, 125, 110, 134, 380, 180, 165,\n",
       "       135, 250, 200, 160, 190,  90,  70], dtype=int64)"
      ]
     },
     "execution_count": 123,
     "metadata": {},
     "output_type": "execute_result"
    }
   ],
   "source": [
    "data.PACK_SIZE.unique()"
   ]
  },
  {
   "cell_type": "code",
   "execution_count": 124,
   "metadata": {},
   "outputs": [],
   "source": [
    "#70 smallest pack size and 380 is the largest "
   ]
  },
  {
   "cell_type": "code",
   "execution_count": 125,
   "metadata": {},
   "outputs": [
    {
     "data": {
      "text/html": [
       "<div>\n",
       "<style scoped>\n",
       "    .dataframe tbody tr th:only-of-type {\n",
       "        vertical-align: middle;\n",
       "    }\n",
       "\n",
       "    .dataframe tbody tr th {\n",
       "        vertical-align: top;\n",
       "    }\n",
       "\n",
       "    .dataframe thead th {\n",
       "        text-align: right;\n",
       "    }\n",
       "</style>\n",
       "<table border=\"1\" class=\"dataframe\">\n",
       "  <thead>\n",
       "    <tr style=\"text-align: right;\">\n",
       "      <th></th>\n",
       "      <th>DATE</th>\n",
       "      <th>STORE_NBR</th>\n",
       "      <th>LYLTY_CARD_NBR</th>\n",
       "      <th>TXN_ID</th>\n",
       "      <th>PROD_NBR</th>\n",
       "      <th>PROD_NAME</th>\n",
       "      <th>PROD_QTY</th>\n",
       "      <th>TOT_SALES</th>\n",
       "      <th>BRAND</th>\n",
       "      <th>PACK_SIZE</th>\n",
       "    </tr>\n",
       "  </thead>\n",
       "  <tbody>\n",
       "    <tr>\n",
       "      <th>0</th>\n",
       "      <td>43390</td>\n",
       "      <td>1</td>\n",
       "      <td>1000</td>\n",
       "      <td>1</td>\n",
       "      <td>5</td>\n",
       "      <td>Natural Chip        Compny Seasalt</td>\n",
       "      <td>2</td>\n",
       "      <td>6.0</td>\n",
       "      <td>Natural</td>\n",
       "      <td>175</td>\n",
       "    </tr>\n",
       "    <tr>\n",
       "      <th>1</th>\n",
       "      <td>43599</td>\n",
       "      <td>1</td>\n",
       "      <td>1307</td>\n",
       "      <td>348</td>\n",
       "      <td>66</td>\n",
       "      <td>Ccs Nacho Cheese</td>\n",
       "      <td>3</td>\n",
       "      <td>6.3</td>\n",
       "      <td>Ccs</td>\n",
       "      <td>175</td>\n",
       "    </tr>\n",
       "    <tr>\n",
       "      <th>2</th>\n",
       "      <td>43605</td>\n",
       "      <td>1</td>\n",
       "      <td>1343</td>\n",
       "      <td>383</td>\n",
       "      <td>61</td>\n",
       "      <td>Smiths Crinkle Cut  Chips Chicken</td>\n",
       "      <td>2</td>\n",
       "      <td>2.9</td>\n",
       "      <td>Smiths</td>\n",
       "      <td>170</td>\n",
       "    </tr>\n",
       "    <tr>\n",
       "      <th>3</th>\n",
       "      <td>43329</td>\n",
       "      <td>2</td>\n",
       "      <td>2373</td>\n",
       "      <td>974</td>\n",
       "      <td>69</td>\n",
       "      <td>Smiths Chip Thinly  Screamonion</td>\n",
       "      <td>5</td>\n",
       "      <td>15.0</td>\n",
       "      <td>Smiths</td>\n",
       "      <td>175</td>\n",
       "    </tr>\n",
       "    <tr>\n",
       "      <th>4</th>\n",
       "      <td>43330</td>\n",
       "      <td>2</td>\n",
       "      <td>2426</td>\n",
       "      <td>1038</td>\n",
       "      <td>108</td>\n",
       "      <td>Kettle Tortilla Chpshnyjlpno Chili</td>\n",
       "      <td>3</td>\n",
       "      <td>13.8</td>\n",
       "      <td>Kettle</td>\n",
       "      <td>150</td>\n",
       "    </tr>\n",
       "  </tbody>\n",
       "</table>\n",
       "</div>"
      ],
      "text/plain": [
       "    DATE  STORE_NBR  LYLTY_CARD_NBR  TXN_ID  PROD_NBR  \\\n",
       "0  43390          1            1000       1         5   \n",
       "1  43599          1            1307     348        66   \n",
       "2  43605          1            1343     383        61   \n",
       "3  43329          2            2373     974        69   \n",
       "4  43330          2            2426    1038       108   \n",
       "\n",
       "                             PROD_NAME  PROD_QTY  TOT_SALES    BRAND  \\\n",
       "0   Natural Chip        Compny Seasalt         2        6.0  Natural   \n",
       "1                 Ccs Nacho Cheese             3        6.3      Ccs   \n",
       "2   Smiths Crinkle Cut  Chips Chicken          2        2.9   Smiths   \n",
       "3     Smiths Chip Thinly  Screamonion          5       15.0   Smiths   \n",
       "4  Kettle Tortilla Chpshnyjlpno Chili          3       13.8   Kettle   \n",
       "\n",
       "   PACK_SIZE  \n",
       "0        175  \n",
       "1        175  \n",
       "2        170  \n",
       "3        175  \n",
       "4        150  "
      ]
     },
     "execution_count": 125,
     "metadata": {},
     "output_type": "execute_result"
    }
   ],
   "source": [
    "part = data.PROD_NAME.str.partition()\n",
    "data['BRAND']= part[0]\n",
    "data.head()"
   ]
  },
  {
   "cell_type": "code",
   "execution_count": 126,
   "metadata": {},
   "outputs": [
    {
     "data": {
      "text/plain": [
       "array(['Natural', 'Ccs', 'Smiths', 'Kettle', 'Grain', 'Doritos',\n",
       "       'Twisties', 'Ww', 'Thins', 'Burger', 'Ncc', 'Cheezels', 'Infzns',\n",
       "       'Red', 'Pringles', 'Dorito', 'Infuzions', 'Smith', 'Grnwves',\n",
       "       'Tyrrells', 'Cobs', 'French', 'Rrd', 'Tostitos', 'Cheetos',\n",
       "       'Woolworths', 'Snbts', 'Sunbites'], dtype=object)"
      ]
     },
     "execution_count": 126,
     "metadata": {},
     "output_type": "execute_result"
    }
   ],
   "source": [
    "data.BRAND.unique()"
   ]
  },
  {
   "cell_type": "code",
   "execution_count": 127,
   "metadata": {},
   "outputs": [
    {
     "data": {
      "text/plain": [
       "array(['Natural', 'CCS', 'Smiths', 'Kettle', 'Grainwaves', 'Doritos',\n",
       "       'Twisties', 'Woolworths', 'Thins', 'Burger', 'Cheezels',\n",
       "       'Infuzions', 'Red Rock Deli', 'Pringles', 'Smith', 'Grnwves',\n",
       "       'Tyrrells', 'Cobs', 'French', 'Tostitos', 'Cheetos', 'Sunbites'],\n",
       "      dtype=object)"
      ]
     },
     "execution_count": 127,
     "metadata": {},
     "output_type": "execute_result"
    }
   ],
   "source": [
    "data.BRAND.replace('Ncc','Natural',inplace = True)\n",
    "data.BRAND.replace('Ccs','CCS',inplace = True)\n",
    "data.BRAND.replace('smith','Smiths',inplace = True)\n",
    "data.BRAND.replace(['Grain','GrnWves'],'Grainwaves',inplace = True)\n",
    "data.BRAND.replace('Dorito','Doritos',inplace = True)\n",
    "data.BRAND.replace('Ww','Woolworths',inplace = True)\n",
    "data.BRAND.replace('Infzns','Infuzions',inplace = True)\n",
    "data.BRAND.replace(['Red','Rrd','RRD'],'Red Rock Deli',inplace = True)\n",
    "data.BRAND.replace('Snbts','Sunbites',inplace = True)\n",
    "data.BRAND.unique()"
   ]
  },
  {
   "cell_type": "code",
   "execution_count": 128,
   "metadata": {
    "scrolled": true
   },
   "outputs": [
    {
     "data": {
      "text/plain": [
       "BRAND\n",
       "Kettle           390239.8\n",
       "Doritos          226329.9\n",
       "Smiths           202908.6\n",
       "Pringles         177655.5\n",
       "Infuzions         99047.6\n",
       "Thins             88852.5\n",
       "Red Rock Deli     87607.5\n",
       "Twisties          81522.1\n",
       "Tostitos          79789.6\n",
       "Cobs              70569.8\n",
       "Tyrrells          51647.4\n",
       "Grainwaves        43048.8\n",
       "Natural           42318.0\n",
       "Woolworths        41059.1\n",
       "Cheezels          40029.9\n",
       "CCS               18078.9\n",
       "Cheetos           16884.5\n",
       "Smith             14583.4\n",
       "Sunbites           9676.4\n",
       "Grnwves            8568.4\n",
       "French             7929.0\n",
       "Burger             6831.0\n",
       "Name: TOT_SALES, dtype: float64"
      ]
     },
     "execution_count": 128,
     "metadata": {},
     "output_type": "execute_result"
    }
   ],
   "source": [
    "data.groupby('BRAND').TOT_SALES.sum().sort_values(ascending=False)"
   ]
  },
  {
   "cell_type": "code",
   "execution_count": 129,
   "metadata": {},
   "outputs": [],
   "source": [
    "b = data.groupby('BRAND').TOT_SALES.sum()"
   ]
  },
  {
   "cell_type": "code",
   "execution_count": 130,
   "metadata": {},
   "outputs": [
    {
     "data": {
      "text/plain": [
       "<matplotlib.axes._subplots.AxesSubplot at 0x27c19015548>"
      ]
     },
     "execution_count": 130,
     "metadata": {},
     "output_type": "execute_result"
    },
    {
     "data": {
      "image/png": "[encoded data removed]",
      "text/plain": [
       "<Figure size 432x288 with 1 Axes>"
      ]
     },
     "metadata": {
      "needs_background": "light"
     },
     "output_type": "display_data"
    }
   ],
   "source": [
    "b.hist()"
   ]
  },
  {
   "cell_type": "code",
   "execution_count": 131,
   "metadata": {},
   "outputs": [
    {
     "data": {
      "text/plain": [
       "['LYLTY_CARD_NBR', 'LIFESTAGE', 'PREMIUM_CUSTOMER']"
      ]
     },
     "execution_count": 131,
     "metadata": {},
     "output_type": "execute_result"
    }
   ],
   "source": [
    "list(customer_data.columns)"
   ]
  },
  {
   "cell_type": "code",
   "execution_count": 132,
   "metadata": {},
   "outputs": [
    {
     "data": {
      "text/html": [
       "<div>\n",
       "<style scoped>\n",
       "    .dataframe tbody tr th:only-of-type {\n",
       "        vertical-align: middle;\n",
       "    }\n",
       "\n",
       "    .dataframe tbody tr th {\n",
       "        vertical-align: top;\n",
       "    }\n",
       "\n",
       "    .dataframe thead th {\n",
       "        text-align: right;\n",
       "    }\n",
       "</style>\n",
       "<table border=\"1\" class=\"dataframe\">\n",
       "  <thead>\n",
       "    <tr style=\"text-align: right;\">\n",
       "      <th></th>\n",
       "      <th>LYLTY_CARD_NBR</th>\n",
       "      <th>LIFESTAGE</th>\n",
       "      <th>PREMIUM_CUSTOMER</th>\n",
       "    </tr>\n",
       "  </thead>\n",
       "  <tbody>\n",
       "    <tr>\n",
       "      <th>0</th>\n",
       "      <td>1000</td>\n",
       "      <td>YOUNG SINGLES/COUPLES</td>\n",
       "      <td>Premium</td>\n",
       "    </tr>\n",
       "    <tr>\n",
       "      <th>1</th>\n",
       "      <td>1002</td>\n",
       "      <td>YOUNG SINGLES/COUPLES</td>\n",
       "      <td>Mainstream</td>\n",
       "    </tr>\n",
       "    <tr>\n",
       "      <th>2</th>\n",
       "      <td>1003</td>\n",
       "      <td>YOUNG FAMILIES</td>\n",
       "      <td>Budget</td>\n",
       "    </tr>\n",
       "    <tr>\n",
       "      <th>3</th>\n",
       "      <td>1004</td>\n",
       "      <td>OLDER SINGLES/COUPLES</td>\n",
       "      <td>Mainstream</td>\n",
       "    </tr>\n",
       "    <tr>\n",
       "      <th>4</th>\n",
       "      <td>1005</td>\n",
       "      <td>MIDAGE SINGLES/COUPLES</td>\n",
       "      <td>Mainstream</td>\n",
       "    </tr>\n",
       "  </tbody>\n",
       "</table>\n",
       "</div>"
      ],
      "text/plain": [
       "   LYLTY_CARD_NBR               LIFESTAGE PREMIUM_CUSTOMER\n",
       "0            1000   YOUNG SINGLES/COUPLES          Premium\n",
       "1            1002   YOUNG SINGLES/COUPLES       Mainstream\n",
       "2            1003          YOUNG FAMILIES           Budget\n",
       "3            1004   OLDER SINGLES/COUPLES       Mainstream\n",
       "4            1005  MIDAGE SINGLES/COUPLES       Mainstream"
      ]
     },
     "execution_count": 132,
     "metadata": {},
     "output_type": "execute_result"
    }
   ],
   "source": [
    "customer_data.head()"
   ]
  },
  {
   "cell_type": "code",
   "execution_count": 133,
   "metadata": {},
   "outputs": [
    {
     "data": {
      "text/plain": [
       "LYLTY_CARD_NBR      False\n",
       "LIFESTAGE           False\n",
       "PREMIUM_CUSTOMER    False\n",
       "dtype: bool"
      ]
     },
     "execution_count": 133,
     "metadata": {},
     "output_type": "execute_result"
    }
   ],
   "source": [
    "customer_data.isnull().any()#no null values"
   ]
  },
  {
   "cell_type": "code",
   "execution_count": 134,
   "metadata": {},
   "outputs": [
    {
     "data": {
      "text/plain": [
       "72636"
      ]
     },
     "execution_count": 134,
     "metadata": {},
     "output_type": "execute_result"
    }
   ],
   "source": [
    "len(customer_data)"
   ]
  },
  {
   "cell_type": "code",
   "execution_count": 135,
   "metadata": {},
   "outputs": [
    {
     "data": {
      "text/plain": [
       "72636"
      ]
     },
     "execution_count": 135,
     "metadata": {},
     "output_type": "execute_result"
    }
   ],
   "source": [
    "customer_data.LYLTY_CARD_NBR.nunique()#Everything is Unique"
   ]
  },
  {
   "cell_type": "code",
   "execution_count": 136,
   "metadata": {},
   "outputs": [
    {
     "data": {
      "text/plain": [
       "array(['YOUNG SINGLES/COUPLES', 'YOUNG FAMILIES', 'OLDER SINGLES/COUPLES',\n",
       "       'MIDAGE SINGLES/COUPLES', 'NEW FAMILIES', 'OLDER FAMILIES',\n",
       "       'RETIREES'], dtype=object)"
      ]
     },
     "execution_count": 136,
     "metadata": {},
     "output_type": "execute_result"
    }
   ],
   "source": [
    "customer_data.LIFESTAGE.unique()"
   ]
  },
  {
   "cell_type": "code",
   "execution_count": 138,
   "metadata": {
    "scrolled": true
   },
   "outputs": [
    {
     "data": {
      "text/plain": [
       "RETIREES                  14805\n",
       "OLDER SINGLES/COUPLES     14609\n",
       "YOUNG SINGLES/COUPLES     14441\n",
       "OLDER FAMILIES             9779\n",
       "YOUNG FAMILIES             9178\n",
       "MIDAGE SINGLES/COUPLES     7275\n",
       "NEW FAMILIES               2549\n",
       "Name: LIFESTAGE, dtype: int64"
      ]
     },
     "execution_count": 138,
     "metadata": {},
     "output_type": "execute_result"
    }
   ],
   "source": [
    "customer_data.LIFESTAGE.value_counts().sort_values(ascending = False)"
   ]
  },
  {
   "cell_type": "code",
   "execution_count": 139,
   "metadata": {},
   "outputs": [
    {
     "data": {
      "text/plain": [
       "<matplotlib.axes._subplots.AxesSubplot at 0x27c18e9ad08>"
      ]
     },
     "execution_count": 139,
     "metadata": {},
     "output_type": "execute_result"
    },
    {
     "data": {
      "image/png": "[encoded data removed]",
      "text/plain": [
       "<Figure size 432x288 with 1 Axes>"
      ]
     },
     "metadata": {
      "needs_background": "light"
     },
     "output_type": "display_data"
    }
   ],
   "source": [
    "sns.countplot(y = customer_data.LIFESTAGE,order = customer_data.LIFESTAGE.value_counts().index)"
   ]
  },
  {
   "cell_type": "code",
   "execution_count": 140,
   "metadata": {},
   "outputs": [
    {
     "data": {
      "text/plain": [
       "array(['Premium', 'Mainstream', 'Budget'], dtype=object)"
      ]
     },
     "execution_count": 140,
     "metadata": {},
     "output_type": "execute_result"
    }
   ],
   "source": [
    "customer_data.PREMIUM_CUSTOMER.unique()"
   ]
  },
  {
   "cell_type": "code",
   "execution_count": 141,
   "metadata": {},
   "outputs": [
    {
     "data": {
      "text/plain": [
       "Mainstream    29245\n",
       "Budget        24470\n",
       "Premium       18921\n",
       "Name: PREMIUM_CUSTOMER, dtype: int64"
      ]
     },
     "execution_count": 141,
     "metadata": {},
     "output_type": "execute_result"
    }
   ],
   "source": [
    "customer_data.PREMIUM_CUSTOMER.value_counts().sort_values(ascending = False)"
   ]
  },
  {
   "cell_type": "code",
   "execution_count": 142,
   "metadata": {
    "scrolled": true
   },
   "outputs": [
    {
     "data": {
      "text/plain": [
       "<matplotlib.axes._subplots.AxesSubplot at 0x27c18db1ac8>"
      ]
     },
     "execution_count": 142,
     "metadata": {},
     "output_type": "execute_result"
    },
    {
     "data": {
      "image/png": "[encoded data removed]",
      "text/plain": [
       "<Figure size 432x288 with 1 Axes>"
      ]
     },
     "metadata": {
      "needs_background": "light"
     },
     "output_type": "display_data"
    }
   ],
   "source": [
    "sns.countplot(y=customer_data.PREMIUM_CUSTOMER)"
   ]
  },
  {
   "cell_type": "code",
   "execution_count": 143,
   "metadata": {},
   "outputs": [
    {
     "data": {
      "text/plain": [
       "(246740, 10)"
      ]
     },
     "execution_count": 143,
     "metadata": {},
     "output_type": "execute_result"
    }
   ],
   "source": [
    "data.shape"
   ]
  },
  {
   "cell_type": "code",
   "execution_count": 144,
   "metadata": {},
   "outputs": [
    {
     "data": {
      "text/plain": [
       "(72636, 3)"
      ]
     },
     "execution_count": 144,
     "metadata": {},
     "output_type": "execute_result"
    }
   ],
   "source": [
    "customer_data.shape"
   ]
  },
  {
   "cell_type": "code",
   "execution_count": 145,
   "metadata": {},
   "outputs": [],
   "source": [
    "mergedata = pd.merge(data,customer_data)"
   ]
  },
  {
   "cell_type": "code",
   "execution_count": 146,
   "metadata": {},
   "outputs": [
    {
     "data": {
      "text/plain": [
       "(246740, 12)"
      ]
     },
     "execution_count": 146,
     "metadata": {},
     "output_type": "execute_result"
    }
   ],
   "source": [
    "mergedata.shape"
   ]
  },
  {
   "cell_type": "code",
   "execution_count": 147,
   "metadata": {},
   "outputs": [
    {
     "data": {
      "text/html": [
       "<div>\n",
       "<style scoped>\n",
       "    .dataframe tbody tr th:only-of-type {\n",
       "        vertical-align: middle;\n",
       "    }\n",
       "\n",
       "    .dataframe tbody tr th {\n",
       "        vertical-align: top;\n",
       "    }\n",
       "\n",
       "    .dataframe thead th {\n",
       "        text-align: right;\n",
       "    }\n",
       "</style>\n",
       "<table border=\"1\" class=\"dataframe\">\n",
       "  <thead>\n",
       "    <tr style=\"text-align: right;\">\n",
       "      <th></th>\n",
       "      <th>DATE</th>\n",
       "      <th>STORE_NBR</th>\n",
       "      <th>LYLTY_CARD_NBR</th>\n",
       "      <th>TXN_ID</th>\n",
       "      <th>PROD_NBR</th>\n",
       "      <th>PROD_NAME</th>\n",
       "      <th>PROD_QTY</th>\n",
       "      <th>TOT_SALES</th>\n",
       "      <th>BRAND</th>\n",
       "      <th>PACK_SIZE</th>\n",
       "      <th>LIFESTAGE</th>\n",
       "      <th>PREMIUM_CUSTOMER</th>\n",
       "    </tr>\n",
       "  </thead>\n",
       "  <tbody>\n",
       "    <tr>\n",
       "      <th>0</th>\n",
       "      <td>43390</td>\n",
       "      <td>1</td>\n",
       "      <td>1000</td>\n",
       "      <td>1</td>\n",
       "      <td>5</td>\n",
       "      <td>Natural Chip        Compny Seasalt</td>\n",
       "      <td>2</td>\n",
       "      <td>6.0</td>\n",
       "      <td>Natural</td>\n",
       "      <td>175</td>\n",
       "      <td>YOUNG SINGLES/COUPLES</td>\n",
       "      <td>Premium</td>\n",
       "    </tr>\n",
       "    <tr>\n",
       "      <th>1</th>\n",
       "      <td>43599</td>\n",
       "      <td>1</td>\n",
       "      <td>1307</td>\n",
       "      <td>348</td>\n",
       "      <td>66</td>\n",
       "      <td>Ccs Nacho Cheese</td>\n",
       "      <td>3</td>\n",
       "      <td>6.3</td>\n",
       "      <td>CCS</td>\n",
       "      <td>175</td>\n",
       "      <td>MIDAGE SINGLES/COUPLES</td>\n",
       "      <td>Budget</td>\n",
       "    </tr>\n",
       "    <tr>\n",
       "      <th>2</th>\n",
       "      <td>43414</td>\n",
       "      <td>1</td>\n",
       "      <td>1307</td>\n",
       "      <td>346</td>\n",
       "      <td>96</td>\n",
       "      <td>Ww Original Stacked Chips</td>\n",
       "      <td>2</td>\n",
       "      <td>3.8</td>\n",
       "      <td>Woolworths</td>\n",
       "      <td>160</td>\n",
       "      <td>MIDAGE SINGLES/COUPLES</td>\n",
       "      <td>Budget</td>\n",
       "    </tr>\n",
       "    <tr>\n",
       "      <th>3</th>\n",
       "      <td>43533</td>\n",
       "      <td>1</td>\n",
       "      <td>1307</td>\n",
       "      <td>347</td>\n",
       "      <td>54</td>\n",
       "      <td>Ccs Original</td>\n",
       "      <td>1</td>\n",
       "      <td>2.1</td>\n",
       "      <td>CCS</td>\n",
       "      <td>175</td>\n",
       "      <td>MIDAGE SINGLES/COUPLES</td>\n",
       "      <td>Budget</td>\n",
       "    </tr>\n",
       "    <tr>\n",
       "      <th>4</th>\n",
       "      <td>43605</td>\n",
       "      <td>1</td>\n",
       "      <td>1343</td>\n",
       "      <td>383</td>\n",
       "      <td>61</td>\n",
       "      <td>Smiths Crinkle Cut  Chips Chicken</td>\n",
       "      <td>2</td>\n",
       "      <td>2.9</td>\n",
       "      <td>Smiths</td>\n",
       "      <td>170</td>\n",
       "      <td>MIDAGE SINGLES/COUPLES</td>\n",
       "      <td>Budget</td>\n",
       "    </tr>\n",
       "  </tbody>\n",
       "</table>\n",
       "</div>"
      ],
      "text/plain": [
       "    DATE  STORE_NBR  LYLTY_CARD_NBR  TXN_ID  PROD_NBR  \\\n",
       "0  43390          1            1000       1         5   \n",
       "1  43599          1            1307     348        66   \n",
       "2  43414          1            1307     346        96   \n",
       "3  43533          1            1307     347        54   \n",
       "4  43605          1            1343     383        61   \n",
       "\n",
       "                            PROD_NAME  PROD_QTY  TOT_SALES       BRAND  \\\n",
       "0  Natural Chip        Compny Seasalt         2        6.0     Natural   \n",
       "1                Ccs Nacho Cheese             3        6.3         CCS   \n",
       "2          Ww Original Stacked Chips          2        3.8  Woolworths   \n",
       "3                       Ccs Original          1        2.1         CCS   \n",
       "4  Smiths Crinkle Cut  Chips Chicken          2        2.9      Smiths   \n",
       "\n",
       "   PACK_SIZE               LIFESTAGE PREMIUM_CUSTOMER  \n",
       "0        175   YOUNG SINGLES/COUPLES          Premium  \n",
       "1        175  MIDAGE SINGLES/COUPLES           Budget  \n",
       "2        160  MIDAGE SINGLES/COUPLES           Budget  \n",
       "3        175  MIDAGE SINGLES/COUPLES           Budget  \n",
       "4        170  MIDAGE SINGLES/COUPLES           Budget  "
      ]
     },
     "execution_count": 147,
     "metadata": {},
     "output_type": "execute_result"
    }
   ],
   "source": [
    "mergedata.head()"
   ]
  },
  {
   "cell_type": "code",
   "execution_count": 155,
   "metadata": {},
   "outputs": [
    {
     "data": {
      "text/plain": [
       "array(['Premium', 'Budget', 'Mainstream'], dtype=object)"
      ]
     },
     "execution_count": 155,
     "metadata": {},
     "output_type": "execute_result"
    }
   ],
   "source": [
    "mergedata.PREMIUM_CUSTOMER.unique()"
   ]
  },
  {
   "cell_type": "code",
   "execution_count": 148,
   "metadata": {},
   "outputs": [
    {
     "data": {
      "text/plain": [
       "(246740, 12)"
      ]
     },
     "execution_count": 148,
     "metadata": {},
     "output_type": "execute_result"
    }
   ],
   "source": [
    "mergedata.shape"
   ]
  },
  {
   "cell_type": "code",
   "execution_count": 149,
   "metadata": {},
   "outputs": [
    {
     "data": {
      "text/plain": [
       "DATE                0\n",
       "STORE_NBR           0\n",
       "LYLTY_CARD_NBR      0\n",
       "TXN_ID              0\n",
       "PROD_NBR            0\n",
       "PROD_NAME           0\n",
       "PROD_QTY            0\n",
       "TOT_SALES           0\n",
       "BRAND               0\n",
       "PACK_SIZE           0\n",
       "LIFESTAGE           0\n",
       "PREMIUM_CUSTOMER    0\n",
       "dtype: int64"
      ]
     },
     "execution_count": 149,
     "metadata": {},
     "output_type": "execute_result"
    }
   ],
   "source": [
    "mergedata.isnull().sum()"
   ]
  },
  {
   "cell_type": "code",
   "execution_count": 152,
   "metadata": {},
   "outputs": [],
   "source": [
    "sales = pd.DataFrame(mergedata.groupby(['PREMIUM_CUSTOMER','LIFESTAGE']).TOT_SALES.sum())\n",
    "sales.sort_values(by = 'TOT_SALES',ascending = False,inplace= True)"
   ]
  },
  {
   "cell_type": "code",
   "execution_count": 153,
   "metadata": {},
   "outputs": [
    {
     "data": {
      "text/html": [
       "<div>\n",
       "<style scoped>\n",
       "    .dataframe tbody tr th:only-of-type {\n",
       "        vertical-align: middle;\n",
       "    }\n",
       "\n",
       "    .dataframe tbody tr th {\n",
       "        vertical-align: top;\n",
       "    }\n",
       "\n",
       "    .dataframe thead th {\n",
       "        text-align: right;\n",
       "    }\n",
       "</style>\n",
       "<table border=\"1\" class=\"dataframe\">\n",
       "  <thead>\n",
       "    <tr style=\"text-align: right;\">\n",
       "      <th></th>\n",
       "      <th></th>\n",
       "      <th>TOT_SALES</th>\n",
       "    </tr>\n",
       "    <tr>\n",
       "      <th>PREMIUM_CUSTOMER</th>\n",
       "      <th>LIFESTAGE</th>\n",
       "      <th></th>\n",
       "    </tr>\n",
       "  </thead>\n",
       "  <tbody>\n",
       "    <tr>\n",
       "      <th>Budget</th>\n",
       "      <th>OLDER FAMILIES</th>\n",
       "      <td>156863.75</td>\n",
       "    </tr>\n",
       "    <tr>\n",
       "      <th rowspan=\"2\" valign=\"top\">Mainstream</th>\n",
       "      <th>YOUNG SINGLES/COUPLES</th>\n",
       "      <td>147582.20</td>\n",
       "    </tr>\n",
       "    <tr>\n",
       "      <th>RETIREES</th>\n",
       "      <td>145168.95</td>\n",
       "    </tr>\n",
       "    <tr>\n",
       "      <th rowspan=\"2\" valign=\"top\">Budget</th>\n",
       "      <th>YOUNG FAMILIES</th>\n",
       "      <td>129717.95</td>\n",
       "    </tr>\n",
       "    <tr>\n",
       "      <th>OLDER SINGLES/COUPLES</th>\n",
       "      <td>127833.60</td>\n",
       "    </tr>\n",
       "    <tr>\n",
       "      <th>Mainstream</th>\n",
       "      <th>OLDER SINGLES/COUPLES</th>\n",
       "      <td>124648.50</td>\n",
       "    </tr>\n",
       "    <tr>\n",
       "      <th>Premium</th>\n",
       "      <th>OLDER SINGLES/COUPLES</th>\n",
       "      <td>123537.55</td>\n",
       "    </tr>\n",
       "    <tr>\n",
       "      <th>Budget</th>\n",
       "      <th>RETIREES</th>\n",
       "      <td>105916.30</td>\n",
       "    </tr>\n",
       "    <tr>\n",
       "      <th>Mainstream</th>\n",
       "      <th>OLDER FAMILIES</th>\n",
       "      <td>96413.55</td>\n",
       "    </tr>\n",
       "    <tr>\n",
       "      <th>Premium</th>\n",
       "      <th>RETIREES</th>\n",
       "      <td>91296.65</td>\n",
       "    </tr>\n",
       "    <tr>\n",
       "      <th rowspan=\"2\" valign=\"top\">Mainstream</th>\n",
       "      <th>YOUNG FAMILIES</th>\n",
       "      <td>86338.25</td>\n",
       "    </tr>\n",
       "    <tr>\n",
       "      <th>MIDAGE SINGLES/COUPLES</th>\n",
       "      <td>84734.25</td>\n",
       "    </tr>\n",
       "    <tr>\n",
       "      <th rowspan=\"2\" valign=\"top\">Premium</th>\n",
       "      <th>YOUNG FAMILIES</th>\n",
       "      <td>78571.70</td>\n",
       "    </tr>\n",
       "    <tr>\n",
       "      <th>OLDER FAMILIES</th>\n",
       "      <td>75242.60</td>\n",
       "    </tr>\n",
       "    <tr>\n",
       "      <th>Budget</th>\n",
       "      <th>YOUNG SINGLES/COUPLES</th>\n",
       "      <td>57122.10</td>\n",
       "    </tr>\n",
       "    <tr>\n",
       "      <th rowspan=\"2\" valign=\"top\">Premium</th>\n",
       "      <th>MIDAGE SINGLES/COUPLES</th>\n",
       "      <td>54443.85</td>\n",
       "    </tr>\n",
       "    <tr>\n",
       "      <th>YOUNG SINGLES/COUPLES</th>\n",
       "      <td>39052.30</td>\n",
       "    </tr>\n",
       "    <tr>\n",
       "      <th rowspan=\"2\" valign=\"top\">Budget</th>\n",
       "      <th>MIDAGE SINGLES/COUPLES</th>\n",
       "      <td>33345.70</td>\n",
       "    </tr>\n",
       "    <tr>\n",
       "      <th>NEW FAMILIES</th>\n",
       "      <td>20607.45</td>\n",
       "    </tr>\n",
       "    <tr>\n",
       "      <th>Mainstream</th>\n",
       "      <th>NEW FAMILIES</th>\n",
       "      <td>15979.70</td>\n",
       "    </tr>\n",
       "    <tr>\n",
       "      <th>Premium</th>\n",
       "      <th>NEW FAMILIES</th>\n",
       "      <td>10760.80</td>\n",
       "    </tr>\n",
       "  </tbody>\n",
       "</table>\n",
       "</div>"
      ],
      "text/plain": [
       "                                         TOT_SALES\n",
       "PREMIUM_CUSTOMER LIFESTAGE                        \n",
       "Budget           OLDER FAMILIES          156863.75\n",
       "Mainstream       YOUNG SINGLES/COUPLES   147582.20\n",
       "                 RETIREES                145168.95\n",
       "Budget           YOUNG FAMILIES          129717.95\n",
       "                 OLDER SINGLES/COUPLES   127833.60\n",
       "Mainstream       OLDER SINGLES/COUPLES   124648.50\n",
       "Premium          OLDER SINGLES/COUPLES   123537.55\n",
       "Budget           RETIREES                105916.30\n",
       "Mainstream       OLDER FAMILIES           96413.55\n",
       "Premium          RETIREES                 91296.65\n",
       "Mainstream       YOUNG FAMILIES           86338.25\n",
       "                 MIDAGE SINGLES/COUPLES   84734.25\n",
       "Premium          YOUNG FAMILIES           78571.70\n",
       "                 OLDER FAMILIES           75242.60\n",
       "Budget           YOUNG SINGLES/COUPLES    57122.10\n",
       "Premium          MIDAGE SINGLES/COUPLES   54443.85\n",
       "                 YOUNG SINGLES/COUPLES    39052.30\n",
       "Budget           MIDAGE SINGLES/COUPLES   33345.70\n",
       "                 NEW FAMILIES             20607.45\n",
       "Mainstream       NEW FAMILIES             15979.70\n",
       "Premium          NEW FAMILIES             10760.80"
      ]
     },
     "execution_count": 153,
     "metadata": {},
     "output_type": "execute_result"
    }
   ],
   "source": [
    "sales"
   ]
  },
  {
   "cell_type": "code",
   "execution_count": 157,
   "metadata": {},
   "outputs": [],
   "source": [
    "salesplot = pd.DataFrame(mergedata.groupby(['LIFESTAGE','PREMIUM_CUSTOMER']).TOT_SALES.sum())"
   ]
  },
  {
   "cell_type": "code",
   "execution_count": 158,
   "metadata": {},
   "outputs": [
    {
     "data": {
      "text/html": [
       "<div>\n",
       "<style scoped>\n",
       "    .dataframe tbody tr th:only-of-type {\n",
       "        vertical-align: middle;\n",
       "    }\n",
       "\n",
       "    .dataframe tbody tr th {\n",
       "        vertical-align: top;\n",
       "    }\n",
       "\n",
       "    .dataframe thead th {\n",
       "        text-align: right;\n",
       "    }\n",
       "</style>\n",
       "<table border=\"1\" class=\"dataframe\">\n",
       "  <thead>\n",
       "    <tr style=\"text-align: right;\">\n",
       "      <th></th>\n",
       "      <th></th>\n",
       "      <th>TOT_SALES</th>\n",
       "    </tr>\n",
       "    <tr>\n",
       "      <th>LIFESTAGE</th>\n",
       "      <th>PREMIUM_CUSTOMER</th>\n",
       "      <th></th>\n",
       "    </tr>\n",
       "  </thead>\n",
       "  <tbody>\n",
       "    <tr>\n",
       "      <th rowspan=\"3\" valign=\"top\">MIDAGE SINGLES/COUPLES</th>\n",
       "      <th>Budget</th>\n",
       "      <td>33345.70</td>\n",
       "    </tr>\n",
       "    <tr>\n",
       "      <th>Mainstream</th>\n",
       "      <td>84734.25</td>\n",
       "    </tr>\n",
       "    <tr>\n",
       "      <th>Premium</th>\n",
       "      <td>54443.85</td>\n",
       "    </tr>\n",
       "    <tr>\n",
       "      <th rowspan=\"3\" valign=\"top\">NEW FAMILIES</th>\n",
       "      <th>Budget</th>\n",
       "      <td>20607.45</td>\n",
       "    </tr>\n",
       "    <tr>\n",
       "      <th>Mainstream</th>\n",
       "      <td>15979.70</td>\n",
       "    </tr>\n",
       "    <tr>\n",
       "      <th>Premium</th>\n",
       "      <td>10760.80</td>\n",
       "    </tr>\n",
       "    <tr>\n",
       "      <th rowspan=\"3\" valign=\"top\">OLDER FAMILIES</th>\n",
       "      <th>Budget</th>\n",
       "      <td>156863.75</td>\n",
       "    </tr>\n",
       "    <tr>\n",
       "      <th>Mainstream</th>\n",
       "      <td>96413.55</td>\n",
       "    </tr>\n",
       "    <tr>\n",
       "      <th>Premium</th>\n",
       "      <td>75242.60</td>\n",
       "    </tr>\n",
       "    <tr>\n",
       "      <th rowspan=\"3\" valign=\"top\">OLDER SINGLES/COUPLES</th>\n",
       "      <th>Budget</th>\n",
       "      <td>127833.60</td>\n",
       "    </tr>\n",
       "    <tr>\n",
       "      <th>Mainstream</th>\n",
       "      <td>124648.50</td>\n",
       "    </tr>\n",
       "    <tr>\n",
       "      <th>Premium</th>\n",
       "      <td>123537.55</td>\n",
       "    </tr>\n",
       "    <tr>\n",
       "      <th rowspan=\"3\" valign=\"top\">RETIREES</th>\n",
       "      <th>Budget</th>\n",
       "      <td>105916.30</td>\n",
       "    </tr>\n",
       "    <tr>\n",
       "      <th>Mainstream</th>\n",
       "      <td>145168.95</td>\n",
       "    </tr>\n",
       "    <tr>\n",
       "      <th>Premium</th>\n",
       "      <td>91296.65</td>\n",
       "    </tr>\n",
       "    <tr>\n",
       "      <th rowspan=\"3\" valign=\"top\">YOUNG FAMILIES</th>\n",
       "      <th>Budget</th>\n",
       "      <td>129717.95</td>\n",
       "    </tr>\n",
       "    <tr>\n",
       "      <th>Mainstream</th>\n",
       "      <td>86338.25</td>\n",
       "    </tr>\n",
       "    <tr>\n",
       "      <th>Premium</th>\n",
       "      <td>78571.70</td>\n",
       "    </tr>\n",
       "    <tr>\n",
       "      <th rowspan=\"3\" valign=\"top\">YOUNG SINGLES/COUPLES</th>\n",
       "      <th>Budget</th>\n",
       "      <td>57122.10</td>\n",
       "    </tr>\n",
       "    <tr>\n",
       "      <th>Mainstream</th>\n",
       "      <td>147582.20</td>\n",
       "    </tr>\n",
       "    <tr>\n",
       "      <th>Premium</th>\n",
       "      <td>39052.30</td>\n",
       "    </tr>\n",
       "  </tbody>\n",
       "</table>\n",
       "</div>"
      ],
      "text/plain": [
       "                                         TOT_SALES\n",
       "LIFESTAGE              PREMIUM_CUSTOMER           \n",
       "MIDAGE SINGLES/COUPLES Budget             33345.70\n",
       "                       Mainstream         84734.25\n",
       "                       Premium            54443.85\n",
       "NEW FAMILIES           Budget             20607.45\n",
       "                       Mainstream         15979.70\n",
       "                       Premium            10760.80\n",
       "OLDER FAMILIES         Budget            156863.75\n",
       "                       Mainstream         96413.55\n",
       "                       Premium            75242.60\n",
       "OLDER SINGLES/COUPLES  Budget            127833.60\n",
       "                       Mainstream        124648.50\n",
       "                       Premium           123537.55\n",
       "RETIREES               Budget            105916.30\n",
       "                       Mainstream        145168.95\n",
       "                       Premium            91296.65\n",
       "YOUNG FAMILIES         Budget            129717.95\n",
       "                       Mainstream         86338.25\n",
       "                       Premium            78571.70\n",
       "YOUNG SINGLES/COUPLES  Budget             57122.10\n",
       "                       Mainstream        147582.20\n",
       "                       Premium            39052.30"
      ]
     },
     "execution_count": 158,
     "metadata": {},
     "output_type": "execute_result"
    }
   ],
   "source": [
    "salesplot"
   ]
  },
  {
   "cell_type": "code",
   "execution_count": 159,
   "metadata": {
    "scrolled": true
   },
   "outputs": [
    {
     "data": {
      "text/plain": [
       "<matplotlib.axes._subplots.AxesSubplot at 0x27c196e7b08>"
      ]
     },
     "execution_count": 159,
     "metadata": {},
     "output_type": "execute_result"
    },
    {
     "data": {
      "image/png": "[encoded data removed]",
      "text/plain": [
       "<Figure size 720x360 with 1 Axes>"
      ]
     },
     "metadata": {
      "needs_background": "light"
     },
     "output_type": "display_data"
    }
   ],
   "source": [
    "salesplot.unstack().plot(kind='bar',stacked=True,figsize=(10,5),title='Total sales by customer Segment')"
   ]
  },
  {
   "cell_type": "code",
   "execution_count": 162,
   "metadata": {
    "scrolled": true
   },
   "outputs": [
    {
     "data": {
      "text/html": [
       "<div>\n",
       "<style scoped>\n",
       "    .dataframe tbody tr th:only-of-type {\n",
       "        vertical-align: middle;\n",
       "    }\n",
       "\n",
       "    .dataframe tbody tr th {\n",
       "        vertical-align: top;\n",
       "    }\n",
       "\n",
       "    .dataframe thead th {\n",
       "        text-align: right;\n",
       "    }\n",
       "</style>\n",
       "<table border=\"1\" class=\"dataframe\">\n",
       "  <thead>\n",
       "    <tr style=\"text-align: right;\">\n",
       "      <th></th>\n",
       "      <th></th>\n",
       "      <th>LYLTY_CARD_NBR</th>\n",
       "    </tr>\n",
       "    <tr>\n",
       "      <th>PREMIUM_CUSTOMER</th>\n",
       "      <th>LIFESTAGE</th>\n",
       "      <th></th>\n",
       "    </tr>\n",
       "  </thead>\n",
       "  <tbody>\n",
       "    <tr>\n",
       "      <th rowspan=\"3\" valign=\"top\">Mainstream</th>\n",
       "      <th>YOUNG SINGLES/COUPLES</th>\n",
       "      <td>7917</td>\n",
       "    </tr>\n",
       "    <tr>\n",
       "      <th>RETIREES</th>\n",
       "      <td>6358</td>\n",
       "    </tr>\n",
       "    <tr>\n",
       "      <th>OLDER SINGLES/COUPLES</th>\n",
       "      <td>4858</td>\n",
       "    </tr>\n",
       "    <tr>\n",
       "      <th>Budget</th>\n",
       "      <th>OLDER SINGLES/COUPLES</th>\n",
       "      <td>4849</td>\n",
       "    </tr>\n",
       "    <tr>\n",
       "      <th>Premium</th>\n",
       "      <th>OLDER SINGLES/COUPLES</th>\n",
       "      <td>4682</td>\n",
       "    </tr>\n",
       "    <tr>\n",
       "      <th rowspan=\"3\" valign=\"top\">Budget</th>\n",
       "      <th>OLDER FAMILIES</th>\n",
       "      <td>4611</td>\n",
       "    </tr>\n",
       "    <tr>\n",
       "      <th>RETIREES</th>\n",
       "      <td>4385</td>\n",
       "    </tr>\n",
       "    <tr>\n",
       "      <th>YOUNG FAMILIES</th>\n",
       "      <td>3953</td>\n",
       "    </tr>\n",
       "    <tr>\n",
       "      <th>Premium</th>\n",
       "      <th>RETIREES</th>\n",
       "      <td>3812</td>\n",
       "    </tr>\n",
       "    <tr>\n",
       "      <th>Budget</th>\n",
       "      <th>YOUNG SINGLES/COUPLES</th>\n",
       "      <td>3647</td>\n",
       "    </tr>\n",
       "  </tbody>\n",
       "</table>\n",
       "</div>"
      ],
      "text/plain": [
       "                                        LYLTY_CARD_NBR\n",
       "PREMIUM_CUSTOMER LIFESTAGE                            \n",
       "Mainstream       YOUNG SINGLES/COUPLES            7917\n",
       "                 RETIREES                         6358\n",
       "                 OLDER SINGLES/COUPLES            4858\n",
       "Budget           OLDER SINGLES/COUPLES            4849\n",
       "Premium          OLDER SINGLES/COUPLES            4682\n",
       "Budget           OLDER FAMILIES                   4611\n",
       "                 RETIREES                         4385\n",
       "                 YOUNG FAMILIES                   3953\n",
       "Premium          RETIREES                         3812\n",
       "Budget           YOUNG SINGLES/COUPLES            3647"
      ]
     },
     "execution_count": 162,
     "metadata": {},
     "output_type": "execute_result"
    }
   ],
   "source": [
    "customers = pd.DataFrame(mergedata.groupby(['PREMIUM_CUSTOMER','LIFESTAGE']).LYLTY_CARD_NBR.nunique())\n",
    "customers.sort_values(by='LYLTY_CARD_NBR',ascending=False).head(10)"
   ]
  },
  {
   "cell_type": "code",
   "execution_count": 164,
   "metadata": {},
   "outputs": [
    {
     "data": {
      "text/plain": [
       "<matplotlib.axes._subplots.AxesSubplot at 0x27c19f71208>"
      ]
     },
     "execution_count": 164,
     "metadata": {},
     "output_type": "execute_result"
    },
    {
     "data": {
      "image/png": "[encoded data removed]",
      "text/plain": [
       "<Figure size 720x576 with 1 Axes>"
      ]
     },
     "metadata": {
      "needs_background": "light"
     },
     "output_type": "display_data"
    }
   ],
   "source": [
    "customersplot=pd.DataFrame(mergedata.groupby(['LIFESTAGE','PREMIUM_CUSTOMER']).LYLTY_CARD_NBR.nunique())\n",
    "customersplot.unstack().plot(kind='bar',stacked=True,figsize=(10,8),title='Number of Customers by Customer Segment')"
   ]
  },
  {
   "cell_type": "code",
   "execution_count": 182,
   "metadata": {},
   "outputs": [
    {
     "data": {
      "text/html": [
       "<div>\n",
       "<style scoped>\n",
       "    .dataframe tbody tr th:only-of-type {\n",
       "        vertical-align: middle;\n",
       "    }\n",
       "\n",
       "    .dataframe tbody tr th {\n",
       "        vertical-align: top;\n",
       "    }\n",
       "\n",
       "    .dataframe thead th {\n",
       "        text-align: right;\n",
       "    }\n",
       "</style>\n",
       "<table border=\"1\" class=\"dataframe\">\n",
       "  <thead>\n",
       "    <tr style=\"text-align: right;\">\n",
       "      <th></th>\n",
       "      <th></th>\n",
       "      <th>Average Unit per Customer</th>\n",
       "    </tr>\n",
       "    <tr>\n",
       "      <th>PREMIUM_CUSTOMER</th>\n",
       "      <th>LIFESTAGE</th>\n",
       "      <th></th>\n",
       "    </tr>\n",
       "  </thead>\n",
       "  <tbody>\n",
       "    <tr>\n",
       "      <th>Mainstream</th>\n",
       "      <th>OLDER FAMILIES</th>\n",
       "      <td>9.255380</td>\n",
       "    </tr>\n",
       "    <tr>\n",
       "      <th>Budget</th>\n",
       "      <th>OLDER FAMILIES</th>\n",
       "      <td>9.076773</td>\n",
       "    </tr>\n",
       "    <tr>\n",
       "      <th>Premium</th>\n",
       "      <th>OLDER FAMILIES</th>\n",
       "      <td>9.071717</td>\n",
       "    </tr>\n",
       "    <tr>\n",
       "      <th>Budget</th>\n",
       "      <th>YOUNG FAMILIES</th>\n",
       "      <td>8.722995</td>\n",
       "    </tr>\n",
       "    <tr>\n",
       "      <th>Premium</th>\n",
       "      <th>YOUNG FAMILIES</th>\n",
       "      <td>8.716013</td>\n",
       "    </tr>\n",
       "    <tr>\n",
       "      <th>Mainstream</th>\n",
       "      <th>YOUNG FAMILIES</th>\n",
       "      <td>8.638361</td>\n",
       "    </tr>\n",
       "    <tr>\n",
       "      <th>Budget</th>\n",
       "      <th>OLDER SINGLES/COUPLES</th>\n",
       "      <td>6.781398</td>\n",
       "    </tr>\n",
       "    <tr>\n",
       "      <th>Premium</th>\n",
       "      <th>OLDER SINGLES/COUPLES</th>\n",
       "      <td>6.769543</td>\n",
       "    </tr>\n",
       "    <tr>\n",
       "      <th>Mainstream</th>\n",
       "      <th>OLDER SINGLES/COUPLES</th>\n",
       "      <td>6.712021</td>\n",
       "    </tr>\n",
       "  </tbody>\n",
       "</table>\n",
       "</div>"
      ],
      "text/plain": [
       "                                        Average Unit per Customer\n",
       "PREMIUM_CUSTOMER LIFESTAGE                                       \n",
       "Mainstream       OLDER FAMILIES                          9.255380\n",
       "Budget           OLDER FAMILIES                          9.076773\n",
       "Premium          OLDER FAMILIES                          9.071717\n",
       "Budget           YOUNG FAMILIES                          8.722995\n",
       "Premium          YOUNG FAMILIES                          8.716013\n",
       "Mainstream       YOUNG FAMILIES                          8.638361\n",
       "Budget           OLDER SINGLES/COUPLES                   6.781398\n",
       "Premium          OLDER SINGLES/COUPLES                   6.769543\n",
       "Mainstream       OLDER SINGLES/COUPLES                   6.712021"
      ]
     },
     "execution_count": 182,
     "metadata": {},
     "output_type": "execute_result"
    }
   ],
   "source": [
    "#avg units per customer by Premium and LifeStage\n",
    "avg_units = mergedata.groupby(['PREMIUM_CUSTOMER','LIFESTAGE']).PROD_QTY.sum()/mergedata.groupby(['PREMIUM_CUSTOMER','LIFESTAGE']).LYLTY_CARD_NBR.nunique()\n",
    "avg_units = pd.DataFrame(avg_units,columns ={'Average Unit per Customer'})\n",
    "avg_units.sort_values(by='Average Unit per Customer',ascending =False).head(9)"
   ]
  },
  {
   "cell_type": "code",
   "execution_count": 184,
   "metadata": {
    "scrolled": true
   },
   "outputs": [
    {
     "data": {
      "text/plain": [
       "<matplotlib.legend.Legend at 0x27c1b107f88>"
      ]
     },
     "execution_count": 184,
     "metadata": {},
     "output_type": "execute_result"
    },
    {
     "data": {
      "image/png": "[encoded data removed]",
      "text/plain": [
       "<Figure size 864x504 with 1 Axes>"
      ]
     },
     "metadata": {
      "needs_background": "light"
     },
     "output_type": "display_data"
    }
   ],
   "source": [
    "avg_unit_plot = pd.DataFrame(mergedata.groupby(['LIFESTAGE','PREMIUM_CUSTOMER']).PROD_QTY.sum()/\n",
    "                        mergedata.groupby(['LIFESTAGE','PREMIUM_CUSTOMER']).LYLTY_CARD_NBR.nunique())\n",
    "avg_unit_plot.unstack().plot(kind = 'bar',figsize = (12,7),title='AVG unit by Customer Segment')\n",
    "plt.ylabel('AVG # of UNITS')\n",
    "plt.legend(['BUDGET','MAINSTREAM','PREMIUM'],loc = 2)"
   ]
  },
  {
   "cell_type": "code",
   "execution_count": 187,
   "metadata": {},
   "outputs": [
    {
     "data": {
      "text/html": [
       "<div>\n",
       "<style scoped>\n",
       "    .dataframe tbody tr th:only-of-type {\n",
       "        vertical-align: middle;\n",
       "    }\n",
       "\n",
       "    .dataframe tbody tr th {\n",
       "        vertical-align: top;\n",
       "    }\n",
       "\n",
       "    .dataframe thead th {\n",
       "        text-align: right;\n",
       "    }\n",
       "</style>\n",
       "<table border=\"1\" class=\"dataframe\">\n",
       "  <thead>\n",
       "    <tr style=\"text-align: right;\">\n",
       "      <th></th>\n",
       "      <th></th>\n",
       "      <th>Price per Unit</th>\n",
       "    </tr>\n",
       "    <tr>\n",
       "      <th>PREMIUM_CUSTOMER</th>\n",
       "      <th>LIFESTAGE</th>\n",
       "      <th></th>\n",
       "    </tr>\n",
       "  </thead>\n",
       "  <tbody>\n",
       "    <tr>\n",
       "      <th rowspan=\"3\" valign=\"top\">Mainstream</th>\n",
       "      <th>YOUNG SINGLES/COUPLES</th>\n",
       "      <td>4.074043</td>\n",
       "    </tr>\n",
       "    <tr>\n",
       "      <th>MIDAGE SINGLES/COUPLES</th>\n",
       "      <td>3.994449</td>\n",
       "    </tr>\n",
       "    <tr>\n",
       "      <th>NEW FAMILIES</th>\n",
       "      <td>3.935887</td>\n",
       "    </tr>\n",
       "    <tr>\n",
       "      <th rowspan=\"2\" valign=\"top\">Budget</th>\n",
       "      <th>RETIREES</th>\n",
       "      <td>3.932731</td>\n",
       "    </tr>\n",
       "    <tr>\n",
       "      <th>NEW FAMILIES</th>\n",
       "      <td>3.931969</td>\n",
       "    </tr>\n",
       "    <tr>\n",
       "      <th rowspan=\"2\" valign=\"top\">Premium</th>\n",
       "      <th>RETIREES</th>\n",
       "      <td>3.924037</td>\n",
       "    </tr>\n",
       "    <tr>\n",
       "      <th>OLDER SINGLES/COUPLES</th>\n",
       "      <td>3.897698</td>\n",
       "    </tr>\n",
       "    <tr>\n",
       "      <th>Budget</th>\n",
       "      <th>OLDER SINGLES/COUPLES</th>\n",
       "      <td>3.887529</td>\n",
       "    </tr>\n",
       "  </tbody>\n",
       "</table>\n",
       "</div>"
      ],
      "text/plain": [
       "                                         Price per Unit\n",
       "PREMIUM_CUSTOMER LIFESTAGE                             \n",
       "Mainstream       YOUNG SINGLES/COUPLES         4.074043\n",
       "                 MIDAGE SINGLES/COUPLES        3.994449\n",
       "                 NEW FAMILIES                  3.935887\n",
       "Budget           RETIREES                      3.932731\n",
       "                 NEW FAMILIES                  3.931969\n",
       "Premium          RETIREES                      3.924037\n",
       "                 OLDER SINGLES/COUPLES         3.897698\n",
       "Budget           OLDER SINGLES/COUPLES         3.887529"
      ]
     },
     "execution_count": 187,
     "metadata": {},
     "output_type": "execute_result"
    }
   ],
   "source": [
    "#Avg Price per Unit by Premium customer and Lifestage\n",
    "avg_price = mergedata.groupby(['PREMIUM_CUSTOMER','LIFESTAGE']).TOT_SALES.sum()/mergedata.groupby(['PREMIUM_CUSTOMER','LIFESTAGE']).PROD_QTY.sum()\n",
    "avg_price = pd.DataFrame(avg_price,columns={'Price per Unit'})\n",
    "avg_price.sort_values(by = 'Price per Unit', ascending = False).head(8)"
   ]
  },
  {
   "cell_type": "code",
   "execution_count": 188,
   "metadata": {},
   "outputs": [
    {
     "data": {
      "text/plain": [
       "<matplotlib.legend.Legend at 0x27c2436da08>"
      ]
     },
     "execution_count": 188,
     "metadata": {},
     "output_type": "execute_result"
    },
    {
     "data": {
      "image/png": "[encoded data removed]",
      "text/plain": [
       "<Figure size 864x504 with 1 Axes>"
      ]
     },
     "metadata": {
      "needs_background": "light"
     },
     "output_type": "display_data"
    }
   ],
   "source": [
    "avg_price_plot = pd.DataFrame(mergedata.groupby(['LIFESTAGE','PREMIUM_CUSTOMER']).TOT_SALES.sum() / mergedata.groupby(['LIFESTAGE','PREMIUM_CUSTOMER']).PROD_QTY.sum())\n",
    "avg_price_plot.unstack().plot(kind ='bar',figsize = (12 ,7 ),\n",
    "                             title = 'Average Price by Customer Segment',\n",
    "                             ylim = (0,6))\n",
    "plt.ylabel = ('Average Price')\n",
    "plt.legend(['Budget','Mainstream','Premium'],loc = 2)"
   ]
  },
  {
   "cell_type": "code",
   "execution_count": 190,
   "metadata": {},
   "outputs": [],
   "source": [
    "#mainstream midage and young singles and couples are more willing to pay per packet of chips compared o their budget and premium counter parts "
   ]
  },
  {
   "cell_type": "markdown",
   "metadata": {},
   "source": [
    "# PERFORMING A INDEPENDENT T TEST BETWEEN MAIN STREAM AND \n",
    "# NON MAINSTREAM  mid age and young singles/couples to test this difference \n"
   ]
  },
  {
   "cell_type": "code",
   "execution_count": 203,
   "metadata": {
    "scrolled": true
   },
   "outputs": [
    {
     "data": {
      "text/html": [
       "<div>\n",
       "<style scoped>\n",
       "    .dataframe tbody tr th:only-of-type {\n",
       "        vertical-align: middle;\n",
       "    }\n",
       "\n",
       "    .dataframe tbody tr th {\n",
       "        vertical-align: top;\n",
       "    }\n",
       "\n",
       "    .dataframe thead th {\n",
       "        text-align: right;\n",
       "    }\n",
       "</style>\n",
       "<table border=\"1\" class=\"dataframe\">\n",
       "  <thead>\n",
       "    <tr style=\"text-align: right;\">\n",
       "      <th></th>\n",
       "      <th>DATE</th>\n",
       "      <th>STORE_NBR</th>\n",
       "      <th>LYLTY_CARD_NBR</th>\n",
       "      <th>TXN_ID</th>\n",
       "      <th>PROD_NBR</th>\n",
       "      <th>PROD_NAME</th>\n",
       "      <th>PROD_QTY</th>\n",
       "      <th>TOT_SALES</th>\n",
       "      <th>BRAND</th>\n",
       "      <th>PACK_SIZE</th>\n",
       "      <th>LIFESTAGE</th>\n",
       "      <th>PREMIUM_CUSTOMER</th>\n",
       "      <th>PRICE</th>\n",
       "    </tr>\n",
       "  </thead>\n",
       "  <tbody>\n",
       "    <tr>\n",
       "      <th>0</th>\n",
       "      <td>43390</td>\n",
       "      <td>1</td>\n",
       "      <td>1000</td>\n",
       "      <td>1</td>\n",
       "      <td>5</td>\n",
       "      <td>Natural Chip        Compny Seasalt</td>\n",
       "      <td>2</td>\n",
       "      <td>6.0</td>\n",
       "      <td>Natural</td>\n",
       "      <td>175</td>\n",
       "      <td>YOUNG SINGLES/COUPLES</td>\n",
       "      <td>Premium</td>\n",
       "      <td>3.00</td>\n",
       "    </tr>\n",
       "    <tr>\n",
       "      <th>1</th>\n",
       "      <td>43599</td>\n",
       "      <td>1</td>\n",
       "      <td>1307</td>\n",
       "      <td>348</td>\n",
       "      <td>66</td>\n",
       "      <td>Ccs Nacho Cheese</td>\n",
       "      <td>3</td>\n",
       "      <td>6.3</td>\n",
       "      <td>CCS</td>\n",
       "      <td>175</td>\n",
       "      <td>MIDAGE SINGLES/COUPLES</td>\n",
       "      <td>Budget</td>\n",
       "      <td>2.10</td>\n",
       "    </tr>\n",
       "    <tr>\n",
       "      <th>2</th>\n",
       "      <td>43414</td>\n",
       "      <td>1</td>\n",
       "      <td>1307</td>\n",
       "      <td>346</td>\n",
       "      <td>96</td>\n",
       "      <td>Ww Original Stacked Chips</td>\n",
       "      <td>2</td>\n",
       "      <td>3.8</td>\n",
       "      <td>Woolworths</td>\n",
       "      <td>160</td>\n",
       "      <td>MIDAGE SINGLES/COUPLES</td>\n",
       "      <td>Budget</td>\n",
       "      <td>1.90</td>\n",
       "    </tr>\n",
       "    <tr>\n",
       "      <th>3</th>\n",
       "      <td>43533</td>\n",
       "      <td>1</td>\n",
       "      <td>1307</td>\n",
       "      <td>347</td>\n",
       "      <td>54</td>\n",
       "      <td>Ccs Original</td>\n",
       "      <td>1</td>\n",
       "      <td>2.1</td>\n",
       "      <td>CCS</td>\n",
       "      <td>175</td>\n",
       "      <td>MIDAGE SINGLES/COUPLES</td>\n",
       "      <td>Budget</td>\n",
       "      <td>2.10</td>\n",
       "    </tr>\n",
       "    <tr>\n",
       "      <th>4</th>\n",
       "      <td>43605</td>\n",
       "      <td>1</td>\n",
       "      <td>1343</td>\n",
       "      <td>383</td>\n",
       "      <td>61</td>\n",
       "      <td>Smiths Crinkle Cut  Chips Chicken</td>\n",
       "      <td>2</td>\n",
       "      <td>2.9</td>\n",
       "      <td>Smiths</td>\n",
       "      <td>170</td>\n",
       "      <td>MIDAGE SINGLES/COUPLES</td>\n",
       "      <td>Budget</td>\n",
       "      <td>1.45</td>\n",
       "    </tr>\n",
       "  </tbody>\n",
       "</table>\n",
       "</div>"
      ],
      "text/plain": [
       "    DATE  STORE_NBR  LYLTY_CARD_NBR  TXN_ID  PROD_NBR  \\\n",
       "0  43390          1            1000       1         5   \n",
       "1  43599          1            1307     348        66   \n",
       "2  43414          1            1307     346        96   \n",
       "3  43533          1            1307     347        54   \n",
       "4  43605          1            1343     383        61   \n",
       "\n",
       "                            PROD_NAME  PROD_QTY  TOT_SALES       BRAND  \\\n",
       "0  Natural Chip        Compny Seasalt         2        6.0     Natural   \n",
       "1                Ccs Nacho Cheese             3        6.3         CCS   \n",
       "2          Ww Original Stacked Chips          2        3.8  Woolworths   \n",
       "3                       Ccs Original          1        2.1         CCS   \n",
       "4  Smiths Crinkle Cut  Chips Chicken          2        2.9      Smiths   \n",
       "\n",
       "   PACK_SIZE               LIFESTAGE PREMIUM_CUSTOMER  PRICE  \n",
       "0        175   YOUNG SINGLES/COUPLES          Premium   3.00  \n",
       "1        175  MIDAGE SINGLES/COUPLES           Budget   2.10  \n",
       "2        160  MIDAGE SINGLES/COUPLES           Budget   1.90  \n",
       "3        175  MIDAGE SINGLES/COUPLES           Budget   2.10  \n",
       "4        170  MIDAGE SINGLES/COUPLES           Budget   1.45  "
      ]
     },
     "execution_count": 203,
     "metadata": {},
     "output_type": "execute_result"
    }
   ],
   "source": [
    "#create a new datafram pricerperUnit \n",
    "price_per_unit = mergedata\n",
    "\n",
    "#create a new column under priceperunit  called price \n",
    "price_per_unit['PRICE'] = price_per_unit['TOT_SALES']/price_per_unit['PROD_QTY']\n",
    "price_per_unit.head()"
   ]
  },
  {
   "cell_type": "code",
   "execution_count": 205,
   "metadata": {},
   "outputs": [],
   "source": [
    "#Grouping Data into Mainstream and non -mainstream \n",
    "mainstream = price_per_unit.loc[(price_per_unit['PREMIUM_CUSTOMER']==\n",
    "                'Mainstream') & ((price_per_unit['LIFESTAGE']==\n",
    "                'YOUNG SINGLES/COUPLES')| (price_per_unit\n",
    "                ['LIFESTAGE'] == 'MIDAGE SINGLES/COUPLES')),'PRICE']\n",
    "non_main_stream = price_per_unit.loc[(price_per_unit['PREMIUM_CUSTOMER']\n",
    "    != 'Mainstream') & ((price_per_unit['LIFESTAGE']==\n",
    "    'YOUNG SINGLES/COUPLES')|(price_per_unit['LIFESTAGE']\n",
    "    =='MIDAGE SINGLES/COUPLES')),'PRICE']"
   ]
  },
  {
   "cell_type": "code",
   "execution_count": 206,
   "metadata": {},
   "outputs": [
    {
     "data": {
      "text/plain": [
       "Text(0.5, 0, 'Price per unit ')"
      ]
     },
     "execution_count": 206,
     "metadata": {},
     "output_type": "execute_result"
    },
    {
     "data": {
      "image/png": "[encoded data removed]",
      "text/plain": [
       "<Figure size 720x360 with 1 Axes>"
      ]
     },
     "metadata": {
      "needs_background": "light"
     },
     "output_type": "display_data"
    }
   ],
   "source": [
    "#histogram on mainstream and non mainstream\n",
    "plt.figure(figsize=(10,5))\n",
    "plt.hist(mainstream, label = 'Mainstream')\n",
    "plt.hist(non_main_stream,label = 'PREMIUM & BUDGET')\n",
    "plt.legend()\n",
    "plt.xlabel('Price per unit ')"
   ]
  },
  {
   "cell_type": "code",
   "execution_count": 209,
   "metadata": {},
   "outputs": [
    {
     "name": "stdout",
     "output_type": "stream",
     "text": [
      "Mainstream average price per unit: 4.039785893795137\n",
      "Non-mainstram average price per unit  3.706491319963857\n"
     ]
    }
   ],
   "source": [
    "print('Mainstream average price per unit:',np.mean(mainstream))\n",
    "print('Non-mainstram average price per unit ',np.mean(non_main_stream))"
   ]
  },
  {
   "cell_type": "code",
   "execution_count": 211,
   "metadata": {},
   "outputs": [
    {
     "data": {
      "text/plain": [
       "Ttest_indResult(statistic=37.83196107667825, pvalue=2.235645611540966e-309)"
      ]
     },
     "execution_count": 211,
     "metadata": {},
     "output_type": "execute_result"
    }
   ],
   "source": [
    "# perform two sided  T -test\n",
    "ttest_ind(mainstream,non_main_stream)"
   ]
  },
  {
   "cell_type": "code",
   "execution_count": null,
   "metadata": {},
   "outputs": [],
   "source": [
    "# REJECT THE NULLL HYPOTHESIS the mainstream and non mainstream groups do no have the same mean "
   ]
  },
  {
   "cell_type": "code",
   "execution_count": null,
   "metadata": {},
   "outputs": [],
   "source": [
    "#main stream customers have higher average price per unit than that of non main stream customers\n",
    "#We could target customer segments that have the most sales to increase or maintain retention\n"
   ]
  },
  {
   "cell_type": "markdown",
   "metadata": {},
   "source": [
    "# SUMMARY REPORT "
   ]
  },
  {
   "cell_type": "code",
   "execution_count": null,
   "metadata": {},
   "outputs": [],
   "source": [
    "# sales are highest for (budget, older families),(mainstream, young singles/couples) and (maintstream,retirees)\n",
    "# Mainstream young singles and Retirees have the most customers in that segment\n",
    "# Main stream young singles are more likely to purchase Tyrells 270 pack also\n",
    "#older families and youg families buy more chips per customer\n"
   ]
  }
 ],
 "metadata": {
  "kernelspec": {
   "display_name": "Python 3",
   "language": "python",
   "name": "python3"
  },
  "language_info": {
   "codemirror_mode": {
    "name": "ipython",
    "version": 3
   },
   "file_extension": ".py",
   "mimetype": "text/x-python",
   "name": "python",
   "nbconvert_exporter": "python",
   "pygments_lexer": "ipython3",
   "version": "3.7.6"
  }
 },
 "nbformat": 4,
 "nbformat_minor": 4
}
